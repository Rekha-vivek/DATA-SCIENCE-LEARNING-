{
 "cells": [
  {
   "cell_type": "markdown",
   "id": "f5b627bd",
   "metadata": {},
   "source": [
    "# variables"
   ]
  },
  {
   "cell_type": "code",
   "execution_count": 83,
   "id": "541827a9",
   "metadata": {},
   "outputs": [],
   "source": [
    "A=10\n",
    "B=\"Hello guvi\"\n",
    "C=(1,2,3,4)"
   ]
  },
  {
   "cell_type": "code",
   "execution_count": 84,
   "id": "7f1a7ffa",
   "metadata": {},
   "outputs": [
    {
     "name": "stdout",
     "output_type": "stream",
     "text": [
      "10\n"
     ]
    }
   ],
   "source": [
    "print(A)"
   ]
  },
  {
   "cell_type": "code",
   "execution_count": 85,
   "id": "7f8484e8",
   "metadata": {},
   "outputs": [],
   "source": [
    "user_name=\"Rekha\""
   ]
  },
  {
   "cell_type": "code",
   "execution_count": 86,
   "id": "b1865441",
   "metadata": {},
   "outputs": [],
   "source": [
    "user_1=\"Rekha\""
   ]
  },
  {
   "cell_type": "code",
   "execution_count": 87,
   "id": "ba1fe7cf",
   "metadata": {},
   "outputs": [
    {
     "name": "stdout",
     "output_type": "stream",
     "text": [
      "40\n"
     ]
    }
   ],
   "source": [
    "A=10\n",
    "a=30\n",
    "print(a+A)"
   ]
  },
  {
   "cell_type": "markdown",
   "id": "c484547f",
   "metadata": {},
   "source": [
    "# Data Types"
   ]
  },
  {
   "cell_type": "markdown",
   "id": "9111a037",
   "metadata": {},
   "source": [
    "\n",
    "Name =\"rekha\" # String\n",
    "Age= 25 # Int\n",
    "Height=5.6 #Float\n",
    "Exam_Results=True # True/False  Bool\n",
    "\n",
    "Mail=\"Rekha123@gmail.com\" # String\n",
    "#Adhar # Int\n",
    "#Pan # String\n",
    "#Bank Acc # Int\n",
    "Ip address= \"169.567.68.58\" # String\n",
    "\n",
    "Passport=None"
   ]
  },
  {
   "cell_type": "code",
   "execution_count": 88,
   "id": "38ad36bf",
   "metadata": {},
   "outputs": [
    {
     "ename": "NameError",
     "evalue": "name 'Passport' is not defined",
     "output_type": "error",
     "traceback": [
      "\u001b[31m---------------------------------------------------------------------------\u001b[39m",
      "\u001b[31mNameError\u001b[39m                                 Traceback (most recent call last)",
      "\u001b[36mCell\u001b[39m\u001b[36m \u001b[39m\u001b[32mIn[88]\u001b[39m\u001b[32m, line 1\u001b[39m\n\u001b[32m----> \u001b[39m\u001b[32m1\u001b[39m \u001b[38;5;28mprint\u001b[39m(\u001b[43mPassport\u001b[49m)\n",
      "\u001b[31mNameError\u001b[39m: name 'Passport' is not defined"
     ]
    }
   ],
   "source": [
    "print(Passport)"
   ]
  },
  {
   "cell_type": "markdown",
   "id": "3c0f7485",
   "metadata": {},
   "source": [
    "# Data Structure"
   ]
  },
  {
   "cell_type": "code",
   "execution_count": null,
   "id": "3b8287fa",
   "metadata": {},
   "outputs": [],
   "source": [
    "# List\n",
    "# Tuple\n",
    "# Set\n",
    "# Dict\n",
    "\n"
   ]
  },
  {
   "cell_type": "markdown",
   "id": "aace9a1b",
   "metadata": {},
   "source": [
    "# List\n"
   ]
  },
  {
   "cell_type": "code",
   "execution_count": 119,
   "id": "5663095a",
   "metadata": {},
   "outputs": [],
   "source": [
    "L=[10,\"Guvi\",3.45,True,[1,2,3,4]] # List can store all data type and data structure, List can Mutable, Duplicate accepted\n",
    " #  0    1     2    3     4  "
   ]
  },
  {
   "cell_type": "code",
   "execution_count": 120,
   "id": "0800e95d",
   "metadata": {},
   "outputs": [
    {
     "data": {
      "text/plain": [
       "3.45"
      ]
     },
     "execution_count": 120,
     "metadata": {},
     "output_type": "execute_result"
    }
   ],
   "source": [
    "L[2]"
   ]
  },
  {
   "cell_type": "code",
   "execution_count": 121,
   "id": "ed2515f2",
   "metadata": {},
   "outputs": [],
   "source": [
    "L=[10,\"Guvi\",3.45,True,[1,2,3,4],\"Guvi\",\"Hi MDT51\"] # List can store all data type and data structure, List can Mutable, Duplicate accepted\n",
    " #  0    1     2    3     4         5       6"
   ]
  },
  {
   "cell_type": "code",
   "execution_count": 122,
   "id": "8a7aede5",
   "metadata": {},
   "outputs": [
    {
     "data": {
      "text/plain": [
       "6"
      ]
     },
     "execution_count": 122,
     "metadata": {},
     "output_type": "execute_result"
    }
   ],
   "source": [
    "len(L)-1"
   ]
  },
  {
   "cell_type": "code",
   "execution_count": 123,
   "id": "a92a168a",
   "metadata": {},
   "outputs": [
    {
     "data": {
      "text/plain": [
       "True"
      ]
     },
     "execution_count": 123,
     "metadata": {},
     "output_type": "execute_result"
    }
   ],
   "source": [
    "L[len(L)//2]"
   ]
  },
  {
   "cell_type": "code",
   "execution_count": 124,
   "id": "d5694750",
   "metadata": {},
   "outputs": [
    {
     "data": {
      "text/plain": [
       "[True, [1, 2, 3, 4], 'Guvi', 'Hi MDT51']"
      ]
     },
     "execution_count": 124,
     "metadata": {},
     "output_type": "execute_result"
    }
   ],
   "source": [
    "L[len(L)//2:]"
   ]
  },
  {
   "cell_type": "code",
   "execution_count": 125,
   "id": "b467885e",
   "metadata": {},
   "outputs": [
    {
     "data": {
      "text/plain": [
       "3.45"
      ]
     },
     "execution_count": 125,
     "metadata": {},
     "output_type": "execute_result"
    }
   ],
   "source": [
    "L[2]"
   ]
  },
  {
   "cell_type": "code",
   "execution_count": 126,
   "id": "271b2352",
   "metadata": {},
   "outputs": [
    {
     "data": {
      "text/plain": [
       "True"
      ]
     },
     "execution_count": 126,
     "metadata": {},
     "output_type": "execute_result"
    }
   ],
   "source": [
    "L[3]"
   ]
  },
  {
   "cell_type": "code",
   "execution_count": 127,
   "id": "d8118fe2",
   "metadata": {},
   "outputs": [
    {
     "data": {
      "text/plain": [
       "[1, 2, 3, 4]"
      ]
     },
     "execution_count": 127,
     "metadata": {},
     "output_type": "execute_result"
    }
   ],
   "source": [
    "L[4]"
   ]
  },
  {
   "cell_type": "code",
   "execution_count": 128,
   "id": "10235e4b",
   "metadata": {},
   "outputs": [
    {
     "data": {
      "text/plain": [
       "3"
      ]
     },
     "execution_count": 128,
     "metadata": {},
     "output_type": "execute_result"
    }
   ],
   "source": [
    "L[4][2]"
   ]
  },
  {
   "cell_type": "code",
   "execution_count": 129,
   "id": "6a892852",
   "metadata": {},
   "outputs": [
    {
     "data": {
      "text/plain": [
       "'Guvi'"
      ]
     },
     "execution_count": 129,
     "metadata": {},
     "output_type": "execute_result"
    }
   ],
   "source": [
    "L[1]"
   ]
  },
  {
   "cell_type": "code",
   "execution_count": 130,
   "id": "42b4f5ad",
   "metadata": {},
   "outputs": [
    {
     "data": {
      "text/plain": [
       "'v'"
      ]
     },
     "execution_count": 130,
     "metadata": {},
     "output_type": "execute_result"
    }
   ],
   "source": [
    "L[1][2]"
   ]
  },
  {
   "cell_type": "code",
   "execution_count": 131,
   "id": "5f4172bf",
   "metadata": {},
   "outputs": [
    {
     "data": {
      "text/plain": [
       "6"
      ]
     },
     "execution_count": 131,
     "metadata": {},
     "output_type": "execute_result"
    }
   ],
   "source": [
    "len(L)-1"
   ]
  },
  {
   "cell_type": "code",
   "execution_count": 132,
   "id": "995b7339",
   "metadata": {},
   "outputs": [
    {
     "data": {
      "text/plain": [
       "[1, 2, 3, 4, 5, 6, 7, 8, 9, 10]"
      ]
     },
     "execution_count": 132,
     "metadata": {},
     "output_type": "execute_result"
    }
   ],
   "source": [
    "L2=[1,2,3,4,5,6,7,8,9,10]\n",
    "L2"
   ]
  },
  {
   "cell_type": "code",
   "execution_count": 133,
   "id": "cae4f8ea",
   "metadata": {},
   "outputs": [
    {
     "data": {
      "text/plain": [
       "9"
      ]
     },
     "execution_count": 133,
     "metadata": {},
     "output_type": "execute_result"
    }
   ],
   "source": [
    "L2[-2]"
   ]
  },
  {
   "cell_type": "code",
   "execution_count": 134,
   "id": "32ce1165",
   "metadata": {},
   "outputs": [
    {
     "data": {
      "text/plain": [
       "[10, 9, 8, 7, 6, 5, 4, 3, 2, 1]"
      ]
     },
     "execution_count": 134,
     "metadata": {},
     "output_type": "execute_result"
    }
   ],
   "source": [
    "L2[::-1]"
   ]
  },
  {
   "cell_type": "code",
   "execution_count": 135,
   "id": "b8450ec1",
   "metadata": {},
   "outputs": [
    {
     "data": {
      "text/plain": [
       "[1, 2, 3, 4]"
      ]
     },
     "execution_count": 135,
     "metadata": {},
     "output_type": "execute_result"
    }
   ],
   "source": [
    "L2[0:4]"
   ]
  },
  {
   "cell_type": "code",
   "execution_count": 136,
   "id": "f7ac48b9",
   "metadata": {},
   "outputs": [
    {
     "data": {
      "text/plain": [
       "[1, 2, 3, 4, 5]"
      ]
     },
     "execution_count": 136,
     "metadata": {},
     "output_type": "execute_result"
    }
   ],
   "source": [
    "L2[0:5]"
   ]
  },
  {
   "cell_type": "code",
   "execution_count": 137,
   "id": "997c423e",
   "metadata": {},
   "outputs": [
    {
     "data": {
      "text/plain": [
       "[5, 6, 7, 8]"
      ]
     },
     "execution_count": 137,
     "metadata": {},
     "output_type": "execute_result"
    }
   ],
   "source": [
    "L2[4:8]"
   ]
  },
  {
   "cell_type": "code",
   "execution_count": 138,
   "id": "a57e419f",
   "metadata": {},
   "outputs": [
    {
     "data": {
      "text/plain": [
       "['A', 'B', 'C', 'D', 'E', 'F', 'G', 'H', 'I']"
      ]
     },
     "execution_count": 138,
     "metadata": {},
     "output_type": "execute_result"
    }
   ],
   "source": [
    "Box=[\"A\",\"B\",\"C\",\"D\",\"E\",\"F\",\"G\",\"H\",\"I\"]\n",
    "Box"
   ]
  },
  {
   "cell_type": "code",
   "execution_count": 139,
   "id": "ecefff43",
   "metadata": {},
   "outputs": [
    {
     "data": {
      "text/plain": [
       "['A', 'B', 'C', 'D', 'E', 'F', 'G', 'H', 'I']"
      ]
     },
     "execution_count": 139,
     "metadata": {},
     "output_type": "execute_result"
    }
   ],
   "source": [
    "Box[0:]"
   ]
  },
  {
   "cell_type": "code",
   "execution_count": 140,
   "id": "df40cd51",
   "metadata": {},
   "outputs": [
    {
     "data": {
      "text/plain": [
       "['D', 'E', 'F', 'G', 'H', 'I']"
      ]
     },
     "execution_count": 140,
     "metadata": {},
     "output_type": "execute_result"
    }
   ],
   "source": [
    "Box[3:]"
   ]
  },
  {
   "cell_type": "code",
   "execution_count": 141,
   "id": "eeb62abb",
   "metadata": {},
   "outputs": [
    {
     "data": {
      "text/plain": [
       "['A', 'B', 'C', 'D', 'E', 'F', 'G', 'H', 'I']"
      ]
     },
     "execution_count": 141,
     "metadata": {},
     "output_type": "execute_result"
    }
   ],
   "source": [
    "Box[0:9]"
   ]
  },
  {
   "cell_type": "code",
   "execution_count": 142,
   "id": "68cc24af",
   "metadata": {},
   "outputs": [
    {
     "data": {
      "text/plain": [
       "['A', 'C', 'E', 'G', 'I']"
      ]
     },
     "execution_count": 142,
     "metadata": {},
     "output_type": "execute_result"
    }
   ],
   "source": [
    "Box[0:9:2]"
   ]
  },
  {
   "cell_type": "code",
   "execution_count": 143,
   "id": "6c26372e",
   "metadata": {},
   "outputs": [
    {
     "data": {
      "text/plain": [
       "['A', 'D', 'G']"
      ]
     },
     "execution_count": 143,
     "metadata": {},
     "output_type": "execute_result"
    }
   ],
   "source": [
    "Box[0:9:3]"
   ]
  },
  {
   "cell_type": "code",
   "execution_count": 144,
   "id": "52eac5b4",
   "metadata": {},
   "outputs": [
    {
     "data": {
      "text/plain": [
       "['A', 'B', 'C', 'D', 'E', 'F', 'G', 'H', 'I']"
      ]
     },
     "execution_count": 144,
     "metadata": {},
     "output_type": "execute_result"
    }
   ],
   "source": [
    "Box[0:9:1]"
   ]
  },
  {
   "cell_type": "code",
   "execution_count": 145,
   "id": "c4976ecf",
   "metadata": {},
   "outputs": [
    {
     "data": {
      "text/plain": [
       "['C', 'E', 'G']"
      ]
     },
     "execution_count": 145,
     "metadata": {},
     "output_type": "execute_result"
    }
   ],
   "source": [
    "Box[2:7:2]"
   ]
  },
  {
   "cell_type": "code",
   "execution_count": 15,
   "id": "efd7fb4b",
   "metadata": {},
   "outputs": [
    {
     "data": {
      "text/plain": [
       "['Apple', 'Banana', 'Grapes', 'Mango', 'Orange']"
      ]
     },
     "execution_count": 15,
     "metadata": {},
     "output_type": "execute_result"
    }
   ],
   "source": [
    "Fruits=['Apple','Banana','Grapes','Mango','Orange']\n",
    "Fruits"
   ]
  },
  {
   "cell_type": "code",
   "execution_count": 16,
   "id": "1b56566a",
   "metadata": {},
   "outputs": [],
   "source": [
    "Fruits[2]='Blueberry'"
   ]
  },
  {
   "cell_type": "code",
   "execution_count": 17,
   "id": "8a862003",
   "metadata": {},
   "outputs": [
    {
     "data": {
      "text/plain": [
       "['Apple', 'Banana', 'Blueberry', 'Mango', 'Orange']"
      ]
     },
     "execution_count": 17,
     "metadata": {},
     "output_type": "execute_result"
    }
   ],
   "source": [
    "Fruits"
   ]
  },
  {
   "cell_type": "code",
   "execution_count": 18,
   "id": "dc32add7",
   "metadata": {},
   "outputs": [
    {
     "data": {
      "text/plain": [
       "['Apple', 'Banana', 'Blueberry', 'Mango', 'Orange', 'Guava']"
      ]
     },
     "execution_count": 18,
     "metadata": {},
     "output_type": "execute_result"
    }
   ],
   "source": [
    "Fruits.append('Guava')\n",
    "Fruits"
   ]
  },
  {
   "cell_type": "code",
   "execution_count": 19,
   "id": "9a959af3",
   "metadata": {},
   "outputs": [
    {
     "data": {
      "text/plain": [
       "['Apple', 'grape', 'Banana', 'Blueberry', 'Mango', 'Orange', 'Guava']"
      ]
     },
     "execution_count": 19,
     "metadata": {},
     "output_type": "execute_result"
    }
   ],
   "source": [
    "Fruits.insert(1,'grape')\n",
    "Fruits"
   ]
  },
  {
   "cell_type": "code",
   "execution_count": 150,
   "id": "84abc8b9",
   "metadata": {},
   "outputs": [
    {
     "data": {
      "text/plain": [
       "'Guava'"
      ]
     },
     "execution_count": 150,
     "metadata": {},
     "output_type": "execute_result"
    }
   ],
   "source": [
    "Fruits.pop()"
   ]
  },
  {
   "cell_type": "code",
   "execution_count": 151,
   "id": "441ab4f9",
   "metadata": {},
   "outputs": [
    {
     "data": {
      "text/plain": [
       "'Orange'"
      ]
     },
     "execution_count": 151,
     "metadata": {},
     "output_type": "execute_result"
    }
   ],
   "source": [
    "Fruits.pop()"
   ]
  },
  {
   "cell_type": "code",
   "execution_count": 20,
   "id": "112ec7be",
   "metadata": {},
   "outputs": [
    {
     "data": {
      "text/plain": [
       "['Apple', 'grape', 'Banana', 'Blueberry', 'Orange', 'Guava']"
      ]
     },
     "execution_count": 20,
     "metadata": {},
     "output_type": "execute_result"
    }
   ],
   "source": [
    "Fruits.remove('Mango')\n",
    "Fruits"
   ]
  },
  {
   "cell_type": "code",
   "execution_count": 153,
   "id": "0e487161",
   "metadata": {},
   "outputs": [
    {
     "data": {
      "text/plain": [
       "['Apple', 'Banana', 'Grapes', 'Mango', 'Orange', 'Banana']"
      ]
     },
     "execution_count": 153,
     "metadata": {},
     "output_type": "execute_result"
    }
   ],
   "source": [
    "Fruits=['Apple','Banana','Grapes','Mango','Orange','Banana']\n",
    "Fruits"
   ]
  },
  {
   "cell_type": "code",
   "execution_count": 154,
   "id": "8eba2b6e",
   "metadata": {},
   "outputs": [
    {
     "data": {
      "text/plain": [
       "2"
      ]
     },
     "execution_count": 154,
     "metadata": {},
     "output_type": "execute_result"
    }
   ],
   "source": [
    "Fruits.count('Banana')"
   ]
  },
  {
   "cell_type": "code",
   "execution_count": null,
   "id": "ae4754ff",
   "metadata": {},
   "outputs": [
    {
     "ename": "ValueError",
     "evalue": "'Grapes' is not in list",
     "output_type": "error",
     "traceback": [
      "\u001b[31m---------------------------------------------------------------------------\u001b[39m",
      "\u001b[31mValueError\u001b[39m                                Traceback (most recent call last)",
      "\u001b[36mCell\u001b[39m\u001b[36m \u001b[39m\u001b[32mIn[26]\u001b[39m\u001b[32m, line 1\u001b[39m\n\u001b[32m----> \u001b[39m\u001b[32m1\u001b[39m \u001b[43mFruits\u001b[49m\u001b[43m.\u001b[49m\u001b[43mindex\u001b[49m\u001b[43m(\u001b[49m\u001b[33;43m'\u001b[39;49m\u001b[33;43mGrapes\u001b[39;49m\u001b[33;43m'\u001b[39;49m\u001b[43m)\u001b[49m\n",
      "\u001b[31mValueError\u001b[39m: 'Grapes' is not in list"
     ]
    }
   ],
   "source": [
    "Fruits.index('Grapes')"
   ]
  },
  {
   "cell_type": "code",
   "execution_count": 156,
   "id": "2cc51665",
   "metadata": {},
   "outputs": [
    {
     "data": {
      "text/plain": [
       "['__add__',\n",
       " '__class__',\n",
       " '__class_getitem__',\n",
       " '__contains__',\n",
       " '__delattr__',\n",
       " '__delitem__',\n",
       " '__dir__',\n",
       " '__doc__',\n",
       " '__eq__',\n",
       " '__format__',\n",
       " '__ge__',\n",
       " '__getattribute__',\n",
       " '__getitem__',\n",
       " '__getstate__',\n",
       " '__gt__',\n",
       " '__hash__',\n",
       " '__iadd__',\n",
       " '__imul__',\n",
       " '__init__',\n",
       " '__init_subclass__',\n",
       " '__iter__',\n",
       " '__le__',\n",
       " '__len__',\n",
       " '__lt__',\n",
       " '__mul__',\n",
       " '__ne__',\n",
       " '__new__',\n",
       " '__reduce__',\n",
       " '__reduce_ex__',\n",
       " '__repr__',\n",
       " '__reversed__',\n",
       " '__rmul__',\n",
       " '__setattr__',\n",
       " '__setitem__',\n",
       " '__sizeof__',\n",
       " '__str__',\n",
       " '__subclasshook__',\n",
       " 'append',\n",
       " 'clear',\n",
       " 'copy',\n",
       " 'count',\n",
       " 'extend',\n",
       " 'index',\n",
       " 'insert',\n",
       " 'pop',\n",
       " 'remove',\n",
       " 'reverse',\n",
       " 'sort']"
      ]
     },
     "execution_count": 156,
     "metadata": {},
     "output_type": "execute_result"
    }
   ],
   "source": [
    "dir(list)"
   ]
  },
  {
   "cell_type": "code",
   "execution_count": 103,
   "id": "15d11c7a",
   "metadata": {},
   "outputs": [
    {
     "data": {
      "text/plain": [
       "['Banana', 'Orange', 'Mango', 'Grapes', 'Banana', 'Apple']"
      ]
     },
     "execution_count": 103,
     "metadata": {},
     "output_type": "execute_result"
    }
   ],
   "source": [
    "Fruits=['Apple','Banana','Grapes','Mango','Orange','Banana']\n",
    "Fruits.reverse()\n",
    "Fruits"
   ]
  },
  {
   "cell_type": "code",
   "execution_count": 104,
   "id": "e9477780",
   "metadata": {},
   "outputs": [
    {
     "data": {
      "text/plain": [
       "['Banana', 'Orange', 'Mango', 'Grapes', 'Banana', 'Apple']"
      ]
     },
     "execution_count": 104,
     "metadata": {},
     "output_type": "execute_result"
    }
   ],
   "source": [
    "Fruits[::1]"
   ]
  },
  {
   "cell_type": "code",
   "execution_count": 28,
   "id": "422afcc3",
   "metadata": {},
   "outputs": [
    {
     "data": {
      "text/plain": [
       "['Guava', 'Orange', 'Blueberry', 'Banana', 'grape', 'Apple']"
      ]
     },
     "execution_count": 28,
     "metadata": {},
     "output_type": "execute_result"
    }
   ],
   "source": [
    "Fruits[::1]"
   ]
  },
  {
   "cell_type": "code",
   "execution_count": 105,
   "id": "6db86aaf",
   "metadata": {},
   "outputs": [
    {
     "data": {
      "text/plain": [
       "['Apple', 'Banana', 'Banana', 'Grapes', 'Mango', 'Orange']"
      ]
     },
     "execution_count": 105,
     "metadata": {},
     "output_type": "execute_result"
    }
   ],
   "source": [
    "Fruits.sort()\n",
    "Fruits"
   ]
  },
  {
   "cell_type": "code",
   "execution_count": 14,
   "id": "976e0740",
   "metadata": {},
   "outputs": [
    {
     "data": {
      "text/plain": [
       "['Apple', 'Banana', 'Banana', 'Grapes', 'Mango', 'Orange']"
      ]
     },
     "execution_count": 14,
     "metadata": {},
     "output_type": "execute_result"
    }
   ],
   "source": [
    "Fruits=['Apple','Banana','Grapes','Mango','Orange','Banana']\n",
    "Fruits.sort()\n",
    "Fruits"
   ]
  },
  {
   "cell_type": "code",
   "execution_count": 16,
   "id": "eec4a88f",
   "metadata": {},
   "outputs": [
    {
     "data": {
      "text/plain": [
       "['Orange', 'Mango', 'Grapes', 'Banana', 'Banana', 'Apple']"
      ]
     },
     "execution_count": 16,
     "metadata": {},
     "output_type": "execute_result"
    }
   ],
   "source": [
    "Fruits.sort(reverse=True)\n",
    "Fruits"
   ]
  },
  {
   "cell_type": "code",
   "execution_count": 107,
   "id": "457855b6",
   "metadata": {},
   "outputs": [
    {
     "data": {
      "text/plain": [
       "['Apple', 'Banana', 'Grapes', 'Mango', 'Orange', 'Banana']"
      ]
     },
     "execution_count": 107,
     "metadata": {},
     "output_type": "execute_result"
    }
   ],
   "source": [
    "Fruits=['Apple','Banana','Grapes','Mango','Orange','Banana']\n",
    "Fruits.copy()\n",
    "Fruits"
   ]
  },
  {
   "cell_type": "code",
   "execution_count": 108,
   "id": "afdbe384",
   "metadata": {},
   "outputs": [],
   "source": [
    "Fruits_Copy=Fruits.copy()"
   ]
  },
  {
   "cell_type": "code",
   "execution_count": 109,
   "id": "32a313b0",
   "metadata": {},
   "outputs": [
    {
     "data": {
      "text/plain": [
       "['Apple', 'Banana', 'Grapes', 'Mango', 'Orange', 'Banana']"
      ]
     },
     "execution_count": 109,
     "metadata": {},
     "output_type": "execute_result"
    }
   ],
   "source": [
    "Fruits_Copy"
   ]
  },
  {
   "cell_type": "code",
   "execution_count": 110,
   "id": "225fdd6b",
   "metadata": {},
   "outputs": [
    {
     "data": {
      "text/plain": [
       "'Grapes'"
      ]
     },
     "execution_count": 110,
     "metadata": {},
     "output_type": "execute_result"
    }
   ],
   "source": [
    "Fruits_Copy.pop(2)"
   ]
  },
  {
   "cell_type": "code",
   "execution_count": 111,
   "id": "5f80b88a",
   "metadata": {},
   "outputs": [
    {
     "data": {
      "text/plain": [
       "['Apple', 'Banana', 'Mango', 'Orange', 'Banana']"
      ]
     },
     "execution_count": 111,
     "metadata": {},
     "output_type": "execute_result"
    }
   ],
   "source": [
    "Fruits_Copy"
   ]
  },
  {
   "cell_type": "code",
   "execution_count": 112,
   "id": "01b9a3f6",
   "metadata": {},
   "outputs": [
    {
     "data": {
      "text/plain": [
       "['Apple', 'Banana', 'Grapes', 'Mango', 'Orange', 'Banana']"
      ]
     },
     "execution_count": 112,
     "metadata": {},
     "output_type": "execute_result"
    }
   ],
   "source": [
    "Fruits"
   ]
  },
  {
   "cell_type": "code",
   "execution_count": 113,
   "id": "aa9171e3",
   "metadata": {},
   "outputs": [],
   "source": [
    "Fruits_1=Fruits"
   ]
  },
  {
   "cell_type": "code",
   "execution_count": 114,
   "id": "d8dc3fe0",
   "metadata": {},
   "outputs": [
    {
     "data": {
      "text/plain": [
       "['Apple', 'Banana', 'Grapes', 'Mango', 'Orange', 'Banana']"
      ]
     },
     "execution_count": 114,
     "metadata": {},
     "output_type": "execute_result"
    }
   ],
   "source": [
    "Fruits_1"
   ]
  },
  {
   "cell_type": "code",
   "execution_count": 115,
   "id": "bffcce02",
   "metadata": {},
   "outputs": [
    {
     "data": {
      "text/plain": [
       "'Grapes'"
      ]
     },
     "execution_count": 115,
     "metadata": {},
     "output_type": "execute_result"
    }
   ],
   "source": [
    "Fruits_1.pop(2)"
   ]
  },
  {
   "cell_type": "code",
   "execution_count": 116,
   "id": "6a9501f3",
   "metadata": {},
   "outputs": [
    {
     "data": {
      "text/plain": [
       "['Apple', 'Banana', 'Mango', 'Orange', 'Banana']"
      ]
     },
     "execution_count": 116,
     "metadata": {},
     "output_type": "execute_result"
    }
   ],
   "source": [
    "Fruits_1"
   ]
  },
  {
   "cell_type": "code",
   "execution_count": 41,
   "id": "24850478",
   "metadata": {},
   "outputs": [
    {
     "data": {
      "text/plain": [
       "['Apple', 'Banana', 'Grapes', 'Mango', 'Orange', 'Banana']"
      ]
     },
     "execution_count": 41,
     "metadata": {},
     "output_type": "execute_result"
    }
   ],
   "source": [
    "Fruits=['Apple','Banana','Grapes','Mango','Orange','Banana']\n",
    "Fruits"
   ]
  },
  {
   "cell_type": "code",
   "execution_count": 42,
   "id": "ae77c0b0",
   "metadata": {},
   "outputs": [
    {
     "data": {
      "text/plain": [
       "['Tomato', 'Potato', 'Brinjal']"
      ]
     },
     "execution_count": 42,
     "metadata": {},
     "output_type": "execute_result"
    }
   ],
   "source": [
    "Veggies=['Tomato','Potato','Brinjal']\n",
    "Veggies"
   ]
  },
  {
   "cell_type": "code",
   "execution_count": 43,
   "id": "49bf1275",
   "metadata": {},
   "outputs": [
    {
     "data": {
      "text/plain": [
       "['Apple',\n",
       " 'Banana',\n",
       " 'Grapes',\n",
       " 'Mango',\n",
       " 'Orange',\n",
       " 'Banana',\n",
       " ['Tomato', 'Potato', 'Brinjal']]"
      ]
     },
     "execution_count": 43,
     "metadata": {},
     "output_type": "execute_result"
    }
   ],
   "source": [
    "Fruits.append(Veggies)\n",
    "Fruits"
   ]
  },
  {
   "cell_type": "code",
   "execution_count": 44,
   "id": "8f44ea42",
   "metadata": {},
   "outputs": [
    {
     "data": {
      "text/plain": [
       "['Apple', 'Banana', 'Grapes', 'Mango', 'Orange', 'Banana']"
      ]
     },
     "execution_count": 44,
     "metadata": {},
     "output_type": "execute_result"
    }
   ],
   "source": [
    "Fruits=['Apple','Banana','Grapes','Mango','Orange','Banana']\n",
    "Fruits"
   ]
  },
  {
   "cell_type": "code",
   "execution_count": 45,
   "id": "38aa6b63",
   "metadata": {},
   "outputs": [
    {
     "data": {
      "text/plain": [
       "['Tomato', 'Potato', 'Brinjal']"
      ]
     },
     "execution_count": 45,
     "metadata": {},
     "output_type": "execute_result"
    }
   ],
   "source": [
    "Veggies=['Tomato','Potato','Brinjal']\n",
    "Veggies"
   ]
  },
  {
   "cell_type": "code",
   "execution_count": 46,
   "id": "53a5d241",
   "metadata": {},
   "outputs": [
    {
     "data": {
      "text/plain": [
       "['Apple',\n",
       " 'Banana',\n",
       " 'Grapes',\n",
       " 'Mango',\n",
       " 'Orange',\n",
       " 'Banana',\n",
       " 'Tomato',\n",
       " 'Potato',\n",
       " 'Brinjal']"
      ]
     },
     "execution_count": 46,
     "metadata": {},
     "output_type": "execute_result"
    }
   ],
   "source": [
    "Fruits.extend(Veggies)\n",
    "Fruits"
   ]
  },
  {
   "cell_type": "markdown",
   "id": "2ef43208",
   "metadata": {},
   "source": [
    "# Tuple"
   ]
  },
  {
   "cell_type": "code",
   "execution_count": 47,
   "id": "24504c5c",
   "metadata": {},
   "outputs": [
    {
     "data": {
      "text/plain": [
       "['__add__',\n",
       " '__class__',\n",
       " '__class_getitem__',\n",
       " '__contains__',\n",
       " '__delattr__',\n",
       " '__dir__',\n",
       " '__doc__',\n",
       " '__eq__',\n",
       " '__format__',\n",
       " '__ge__',\n",
       " '__getattribute__',\n",
       " '__getitem__',\n",
       " '__getnewargs__',\n",
       " '__getstate__',\n",
       " '__gt__',\n",
       " '__hash__',\n",
       " '__init__',\n",
       " '__init_subclass__',\n",
       " '__iter__',\n",
       " '__le__',\n",
       " '__len__',\n",
       " '__lt__',\n",
       " '__mul__',\n",
       " '__ne__',\n",
       " '__new__',\n",
       " '__reduce__',\n",
       " '__reduce_ex__',\n",
       " '__repr__',\n",
       " '__rmul__',\n",
       " '__setattr__',\n",
       " '__sizeof__',\n",
       " '__str__',\n",
       " '__subclasshook__',\n",
       " 'count',\n",
       " 'index']"
      ]
     },
     "execution_count": 47,
     "metadata": {},
     "output_type": "execute_result"
    }
   ],
   "source": [
    "dir(tuple)"
   ]
  },
  {
   "cell_type": "code",
   "execution_count": 48,
   "id": "147c04f4",
   "metadata": {},
   "outputs": [
    {
     "data": {
      "text/plain": [
       "('Rekha', 26, 'Barch', 'III', [56, 67])"
      ]
     },
     "execution_count": 48,
     "metadata": {},
     "output_type": "execute_result"
    }
   ],
   "source": [
    "Std_detail=('Rekha',26,'Barch','III',[56,67]) # Tuple can store any data types./ Data structure, Immutalbe[can't add or remove or modify]Tuple allow duplicates\n",
    "Std_detail"
   ]
  },
  {
   "cell_type": "code",
   "execution_count": 49,
   "id": "7f887af0",
   "metadata": {},
   "outputs": [],
   "source": [
    "Std_detail[4][1]=65"
   ]
  },
  {
   "cell_type": "code",
   "execution_count": 50,
   "id": "4b52d06b",
   "metadata": {},
   "outputs": [
    {
     "data": {
      "text/plain": [
       "('Rekha', 26, 'Barch', 'III', [56, 65])"
      ]
     },
     "execution_count": 50,
     "metadata": {},
     "output_type": "execute_result"
    }
   ],
   "source": [
    "Std_detail"
   ]
  },
  {
   "cell_type": "code",
   "execution_count": 51,
   "id": "8b30a76c",
   "metadata": {},
   "outputs": [
    {
     "data": {
      "text/plain": [
       "2"
      ]
     },
     "execution_count": 51,
     "metadata": {},
     "output_type": "execute_result"
    }
   ],
   "source": [
    "Std_detail.index('Barch')"
   ]
  },
  {
   "cell_type": "code",
   "execution_count": 52,
   "id": "abbb5084",
   "metadata": {},
   "outputs": [
    {
     "data": {
      "text/plain": [
       "1"
      ]
     },
     "execution_count": 52,
     "metadata": {},
     "output_type": "execute_result"
    }
   ],
   "source": [
    "Std_detail.count('Barch')"
   ]
  },
  {
   "cell_type": "markdown",
   "id": "dccf4282",
   "metadata": {},
   "source": [
    "# Set"
   ]
  },
  {
   "cell_type": "code",
   "execution_count": 53,
   "id": "159a8577",
   "metadata": {},
   "outputs": [
    {
     "data": {
      "text/plain": [
       "{('a', 'b', 'c'), 1, 10, 2, 3, 4, 5, 6, 7, 8, 9}"
      ]
     },
     "execution_count": 53,
     "metadata": {},
     "output_type": "execute_result"
    }
   ],
   "source": [
    "set1={1,2,3,4,5,6,7,8,9,10,('a','b','c')}\n",
    "set1"
   ]
  },
  {
   "cell_type": "code",
   "execution_count": 54,
   "id": "4ca1cd4d",
   "metadata": {},
   "outputs": [
    {
     "data": {
      "text/plain": [
       "['__and__',\n",
       " '__class__',\n",
       " '__class_getitem__',\n",
       " '__contains__',\n",
       " '__delattr__',\n",
       " '__dir__',\n",
       " '__doc__',\n",
       " '__eq__',\n",
       " '__format__',\n",
       " '__ge__',\n",
       " '__getattribute__',\n",
       " '__getstate__',\n",
       " '__gt__',\n",
       " '__hash__',\n",
       " '__iand__',\n",
       " '__init__',\n",
       " '__init_subclass__',\n",
       " '__ior__',\n",
       " '__isub__',\n",
       " '__iter__',\n",
       " '__ixor__',\n",
       " '__le__',\n",
       " '__len__',\n",
       " '__lt__',\n",
       " '__ne__',\n",
       " '__new__',\n",
       " '__or__',\n",
       " '__rand__',\n",
       " '__reduce__',\n",
       " '__reduce_ex__',\n",
       " '__repr__',\n",
       " '__ror__',\n",
       " '__rsub__',\n",
       " '__rxor__',\n",
       " '__setattr__',\n",
       " '__sizeof__',\n",
       " '__str__',\n",
       " '__sub__',\n",
       " '__subclasshook__',\n",
       " '__xor__',\n",
       " 'add',\n",
       " 'clear',\n",
       " 'copy',\n",
       " 'difference',\n",
       " 'difference_update',\n",
       " 'discard',\n",
       " 'intersection',\n",
       " 'intersection_update',\n",
       " 'isdisjoint',\n",
       " 'issubset',\n",
       " 'issuperset',\n",
       " 'pop',\n",
       " 'remove',\n",
       " 'symmetric_difference',\n",
       " 'symmetric_difference_update',\n",
       " 'union',\n",
       " 'update']"
      ]
     },
     "execution_count": 54,
     "metadata": {},
     "output_type": "execute_result"
    }
   ],
   "source": [
    "dir(set)"
   ]
  },
  {
   "cell_type": "code",
   "execution_count": 55,
   "id": "f700202c",
   "metadata": {},
   "outputs": [
    {
     "data": {
      "text/plain": [
       "{'Apple', 'Banana', 'Grapes', 'Mango', 'Orange'}"
      ]
     },
     "execution_count": 55,
     "metadata": {},
     "output_type": "execute_result"
    }
   ],
   "source": [
    "Set_fruits={'Apple','Banana','Grapes','Mango','Orange','Banana'}\n",
    "Set_fruits"
   ]
  },
  {
   "cell_type": "code",
   "execution_count": 56,
   "id": "31050c86",
   "metadata": {},
   "outputs": [
    {
     "data": {
      "text/plain": [
       "{'JP', 'UAE', 'UK', 'USA'}"
      ]
     },
     "execution_count": 56,
     "metadata": {},
     "output_type": "execute_result"
    }
   ],
   "source": [
    "Carton={'USA','UK','UAE','UK','UAE','USA','UK','USA','UK','UAE','USA','JP'}  \n",
    "\n",
    "set(Carton)"
   ]
  },
  {
   "cell_type": "code",
   "execution_count": 57,
   "id": "deb3ccf9",
   "metadata": {},
   "outputs": [
    {
     "data": {
      "text/plain": [
       "{'Apple', 'Banana', 'Grapes', 'Mango', 'Orange'}"
      ]
     },
     "execution_count": 57,
     "metadata": {},
     "output_type": "execute_result"
    }
   ],
   "source": [
    "Set_fruits={'Apple','Banana','Grapes','Mango','Orange','Banana'}\n",
    "Set_fruits"
   ]
  },
  {
   "cell_type": "code",
   "execution_count": 58,
   "id": "d49dcec0",
   "metadata": {},
   "outputs": [],
   "source": [
    "Set_fruits.add('Melon')"
   ]
  },
  {
   "cell_type": "code",
   "execution_count": 59,
   "id": "4b667f52",
   "metadata": {},
   "outputs": [
    {
     "data": {
      "text/plain": [
       "{'Apple', 'Banana', 'Grapes', 'Mango', 'Melon', 'Orange'}"
      ]
     },
     "execution_count": 59,
     "metadata": {},
     "output_type": "execute_result"
    }
   ],
   "source": [
    "Set_fruits"
   ]
  },
  {
   "cell_type": "code",
   "execution_count": 60,
   "id": "f68d5534",
   "metadata": {},
   "outputs": [],
   "source": [
    "fruits_1={'Apple','Banana','Grapes','Mango','Orange','Banana'}\n",
    "fruits_2={'Apple','Kiwi','Mango','Orange','Melon'}"
   ]
  },
  {
   "cell_type": "code",
   "execution_count": 61,
   "id": "423e22d0",
   "metadata": {},
   "outputs": [
    {
     "data": {
      "text/plain": [
       "{'Banana', 'Grapes'}"
      ]
     },
     "execution_count": 61,
     "metadata": {},
     "output_type": "execute_result"
    }
   ],
   "source": [
    "fruits_1.difference(fruits_2)"
   ]
  },
  {
   "cell_type": "code",
   "execution_count": 62,
   "id": "8e8d0596",
   "metadata": {},
   "outputs": [
    {
     "data": {
      "text/plain": [
       "{'Kiwi', 'Melon'}"
      ]
     },
     "execution_count": 62,
     "metadata": {},
     "output_type": "execute_result"
    }
   ],
   "source": [
    "fruits_2.difference(fruits_1)"
   ]
  },
  {
   "cell_type": "code",
   "execution_count": 63,
   "id": "cd626020",
   "metadata": {},
   "outputs": [
    {
     "data": {
      "text/plain": [
       "{'Apple', 'Banana', 'Grapes', 'Mango', 'Melon', 'Orange'}"
      ]
     },
     "execution_count": 63,
     "metadata": {},
     "output_type": "execute_result"
    }
   ],
   "source": [
    "Set_fruits"
   ]
  },
  {
   "cell_type": "code",
   "execution_count": 64,
   "id": "5502ae9d",
   "metadata": {},
   "outputs": [],
   "source": [
    "Set_fruits.discard('Apple')"
   ]
  },
  {
   "cell_type": "code",
   "execution_count": 65,
   "id": "767ba880",
   "metadata": {},
   "outputs": [
    {
     "data": {
      "text/plain": [
       "{'Banana', 'Grapes', 'Mango', 'Melon', 'Orange'}"
      ]
     },
     "execution_count": 65,
     "metadata": {},
     "output_type": "execute_result"
    }
   ],
   "source": [
    "Set_fruits"
   ]
  },
  {
   "cell_type": "code",
   "execution_count": 66,
   "id": "da13697d",
   "metadata": {},
   "outputs": [],
   "source": [
    "fruits_1={'Apple','Banana','Grapes','Mango','Orange','Banana'}\n",
    "fruits_2={'Apple','Kiwi','Mango','Orange','Melon'}"
   ]
  },
  {
   "cell_type": "code",
   "execution_count": 67,
   "id": "ff4d05db",
   "metadata": {},
   "outputs": [
    {
     "data": {
      "text/plain": [
       "{'Apple', 'Mango', 'Orange'}"
      ]
     },
     "execution_count": 67,
     "metadata": {},
     "output_type": "execute_result"
    }
   ],
   "source": [
    "fruits_1.intersection(fruits_2)"
   ]
  },
  {
   "cell_type": "code",
   "execution_count": 68,
   "id": "42196dd4",
   "metadata": {},
   "outputs": [
    {
     "data": {
      "text/plain": [
       "{'Apple', 'Banana', 'Grapes', 'Mango', 'Orange'}"
      ]
     },
     "execution_count": 68,
     "metadata": {},
     "output_type": "execute_result"
    }
   ],
   "source": [
    "fruits_1"
   ]
  },
  {
   "cell_type": "code",
   "execution_count": 69,
   "id": "112041e4",
   "metadata": {},
   "outputs": [],
   "source": [
    "fruits_1.intersection_update(fruits_2)"
   ]
  },
  {
   "cell_type": "code",
   "execution_count": 70,
   "id": "33138c43",
   "metadata": {},
   "outputs": [
    {
     "data": {
      "text/plain": [
       "{'Apple', 'Mango', 'Orange'}"
      ]
     },
     "execution_count": 70,
     "metadata": {},
     "output_type": "execute_result"
    }
   ],
   "source": [
    "fruits_1"
   ]
  },
  {
   "cell_type": "code",
   "execution_count": 71,
   "id": "c5b77c86",
   "metadata": {},
   "outputs": [],
   "source": [
    "fruits_1={'Apple','Banana','Grapes','Mango','Orange','Banana'}\n",
    "fruits_2={'Apple','Kiwi','Mango','Orange','Melon'}"
   ]
  },
  {
   "cell_type": "code",
   "execution_count": 72,
   "id": "53bd7a84",
   "metadata": {},
   "outputs": [
    {
     "data": {
      "text/plain": [
       "False"
      ]
     },
     "execution_count": 72,
     "metadata": {},
     "output_type": "execute_result"
    }
   ],
   "source": [
    "fruits_1.isdisjoint(fruits_2)"
   ]
  },
  {
   "cell_type": "code",
   "execution_count": 73,
   "id": "e1b4460e",
   "metadata": {},
   "outputs": [
    {
     "data": {
      "text/plain": [
       "True"
      ]
     },
     "execution_count": 73,
     "metadata": {},
     "output_type": "execute_result"
    }
   ],
   "source": [
    "fruits_1={'Apple','Banana','Grapes','Mango','Orange','Banana'}\n",
    "fruits_2={'Kiwi','Melon'}\n",
    "fruits_1.isdisjoint(fruits_2)"
   ]
  },
  {
   "cell_type": "code",
   "execution_count": 74,
   "id": "d2a48f9a",
   "metadata": {},
   "outputs": [
    {
     "data": {
      "text/plain": [
       "False"
      ]
     },
     "execution_count": 74,
     "metadata": {},
     "output_type": "execute_result"
    }
   ],
   "source": [
    "fruits_1={'Apple','Banana','Grapes','Mango','Orange','Banana'}\n",
    "fruits_2={'Apple','Kiwi','Mango','Orange','Melon'}\n",
    "fruits_1.issubset(fruits_2)"
   ]
  },
  {
   "cell_type": "code",
   "execution_count": 75,
   "id": "2ff62839",
   "metadata": {},
   "outputs": [
    {
     "data": {
      "text/plain": [
       "True"
      ]
     },
     "execution_count": 75,
     "metadata": {},
     "output_type": "execute_result"
    }
   ],
   "source": [
    "fruits_1={'Apple','Banana','Grapes','Mango','Orange','Banana'}\n",
    "fruits_2={'Apple','Kiwi','Mango','Orange','Melon'}\n",
    "fruits_2.issubset(fruits_2)"
   ]
  },
  {
   "cell_type": "code",
   "execution_count": 76,
   "id": "7acb1cfa",
   "metadata": {},
   "outputs": [
    {
     "data": {
      "text/plain": [
       "False"
      ]
     },
     "execution_count": 76,
     "metadata": {},
     "output_type": "execute_result"
    }
   ],
   "source": [
    "fruits_1.issubset(fruits_2)"
   ]
  },
  {
   "cell_type": "code",
   "execution_count": 77,
   "id": "f0457a00",
   "metadata": {},
   "outputs": [
    {
     "data": {
      "text/plain": [
       "False"
      ]
     },
     "execution_count": 77,
     "metadata": {},
     "output_type": "execute_result"
    }
   ],
   "source": [
    "fruits_2.issubset(fruits_1)"
   ]
  },
  {
   "cell_type": "code",
   "execution_count": 78,
   "id": "b4c7eef0",
   "metadata": {},
   "outputs": [
    {
     "data": {
      "text/plain": [
       "True"
      ]
     },
     "execution_count": 78,
     "metadata": {},
     "output_type": "execute_result"
    }
   ],
   "source": [
    "set_1={1,2,3,4,5,6,7,8,9,10}\n",
    "set_2={1,2,3}\n",
    "\n",
    "set_1.issuperset(set_1)"
   ]
  },
  {
   "cell_type": "code",
   "execution_count": 1,
   "id": "083b63a2",
   "metadata": {},
   "outputs": [
    {
     "data": {
      "text/plain": [
       "1"
      ]
     },
     "execution_count": 1,
     "metadata": {},
     "output_type": "execute_result"
    }
   ],
   "source": [
    "set_1={1,2,3,4,5,6,7,8,9,10}\n",
    "set_2={1,2,3}\n",
    "set_1.pop()"
   ]
  },
  {
   "cell_type": "code",
   "execution_count": 20,
   "id": "1c972307",
   "metadata": {},
   "outputs": [
    {
     "ename": "TypeError",
     "evalue": "set.pop() takes no arguments (1 given)",
     "output_type": "error",
     "traceback": [
      "\u001b[31m---------------------------------------------------------------------------\u001b[39m",
      "\u001b[31mTypeError\u001b[39m                                 Traceback (most recent call last)",
      "\u001b[36mCell\u001b[39m\u001b[36m \u001b[39m\u001b[32mIn[20]\u001b[39m\u001b[32m, line 1\u001b[39m\n\u001b[32m----> \u001b[39m\u001b[32m1\u001b[39m \u001b[43mset_1\u001b[49m\u001b[43m.\u001b[49m\u001b[43mpop\u001b[49m\u001b[43m(\u001b[49m\u001b[32;43m3\u001b[39;49m\u001b[43m)\u001b[49m\n",
      "\u001b[31mTypeError\u001b[39m: set.pop() takes no arguments (1 given)"
     ]
    }
   ],
   "source": [
    "set_1.pop(3)"
   ]
  },
  {
   "cell_type": "code",
   "execution_count": 18,
   "id": "cb837db7",
   "metadata": {},
   "outputs": [
    {
     "data": {
      "text/plain": [
       "{4, 5, 6, 7, 8, 9, 10, 11, 12, 14}"
      ]
     },
     "execution_count": 18,
     "metadata": {},
     "output_type": "execute_result"
    }
   ],
   "source": [
    "set_1"
   ]
  },
  {
   "cell_type": "code",
   "execution_count": 19,
   "id": "5f9a8c56",
   "metadata": {},
   "outputs": [
    {
     "data": {
      "text/plain": [
       "{5, 6, 7, 8, 9, 10, 11, 12, 14}"
      ]
     },
     "execution_count": 19,
     "metadata": {},
     "output_type": "execute_result"
    }
   ],
   "source": [
    "set_1.pop()\n",
    "set_1"
   ]
  },
  {
   "cell_type": "code",
   "execution_count": 80,
   "id": "9e3da6ac",
   "metadata": {},
   "outputs": [
    {
     "data": {
      "text/plain": [
       "{2, 3, 4, 5, 6, 7, 8, 9, 10}"
      ]
     },
     "execution_count": 80,
     "metadata": {},
     "output_type": "execute_result"
    }
   ],
   "source": [
    "set_1"
   ]
  },
  {
   "cell_type": "code",
   "execution_count": 6,
   "id": "0b16a2e6",
   "metadata": {},
   "outputs": [
    {
     "data": {
      "text/plain": [
       "{4, 5, 6, 7, 8, 9, 10, 11, 12, 14}"
      ]
     },
     "execution_count": 6,
     "metadata": {},
     "output_type": "execute_result"
    }
   ],
   "source": [
    "# symmetric difference \n",
    "\n",
    "set_1={1,2,3,4,5,6,7,8,9,10}\n",
    "set_2={1,2,3,11,12,14}\n",
    "\n",
    "set_1.symmetric_difference(set_2)"
   ]
  },
  {
   "cell_type": "code",
   "execution_count": 7,
   "id": "5677d6b2",
   "metadata": {},
   "outputs": [],
   "source": [
    "set_1={1,2,3,4,5,6,7,8,9,10}\n",
    "set_2={1,2,3,11,12,14}\n",
    "\n",
    "set_1.symmetric_difference_update(set_2)"
   ]
  },
  {
   "cell_type": "code",
   "execution_count": 83,
   "id": "737ffc87",
   "metadata": {},
   "outputs": [
    {
     "data": {
      "text/plain": [
       "{4, 5, 6, 7, 8, 9, 10, 11, 12, 14}"
      ]
     },
     "execution_count": 83,
     "metadata": {},
     "output_type": "execute_result"
    }
   ],
   "source": [
    "set_1"
   ]
  },
  {
   "cell_type": "code",
   "execution_count": 24,
   "id": "64a1ef86",
   "metadata": {},
   "outputs": [
    {
     "data": {
      "text/plain": [
       "{1, 2, 3, 4, 5, 6, 7, 8, 9, 10, 20, 30}"
      ]
     },
     "execution_count": 24,
     "metadata": {},
     "output_type": "execute_result"
    }
   ],
   "source": [
    "set_1={1,2,3,4,5,6,7,8,9,10}\n",
    "set_2={10,20,30}\n",
    "set_1.union(set_2)"
   ]
  },
  {
   "cell_type": "code",
   "execution_count": 25,
   "id": "bafdfbc1",
   "metadata": {},
   "outputs": [],
   "source": [
    "set_1={1,2,3,4,5,6,7,8,9,10}\n",
    "set_2={10,20,30}\n",
    "\n",
    "set_1.update(set_2)"
   ]
  },
  {
   "cell_type": "code",
   "execution_count": 23,
   "id": "12883c2d",
   "metadata": {},
   "outputs": [
    {
     "data": {
      "text/plain": [
       "{1, 2, 3, 4, 5, 6, 7, 8, 9, 10, 20, 30}"
      ]
     },
     "execution_count": 23,
     "metadata": {},
     "output_type": "execute_result"
    }
   ],
   "source": [
    "set_1"
   ]
  },
  {
   "cell_type": "markdown",
   "id": "843c3b79",
   "metadata": {},
   "source": [
    "# Dict"
   ]
  },
  {
   "cell_type": "code",
   "execution_count": 87,
   "id": "de13e22b",
   "metadata": {},
   "outputs": [
    {
     "data": {
      "text/plain": [
       "{'Name': 'Rekha', 'Age': 26, 'Income': 300000, 8: 'Address'}"
      ]
     },
     "execution_count": 87,
     "metadata": {},
     "output_type": "execute_result"
    }
   ],
   "source": [
    "Emp={\"Name\":\"Rekha\",\n",
    "     \"Age\": 26,\n",
    "     \"Income\":300000,\n",
    "     8:\"Address\"}\n",
    "Emp"
   ]
  },
  {
   "cell_type": "code",
   "execution_count": 88,
   "id": "3639783c",
   "metadata": {},
   "outputs": [
    {
     "data": {
      "text/plain": [
       "'Rekha'"
      ]
     },
     "execution_count": 88,
     "metadata": {},
     "output_type": "execute_result"
    }
   ],
   "source": [
    "Emp[\"Name\"]"
   ]
  },
  {
   "cell_type": "code",
   "execution_count": 89,
   "id": "3e8e84c6",
   "metadata": {},
   "outputs": [
    {
     "data": {
      "text/plain": [
       "'Address'"
      ]
     },
     "execution_count": 89,
     "metadata": {},
     "output_type": "execute_result"
    }
   ],
   "source": [
    "Emp[8]"
   ]
  },
  {
   "cell_type": "code",
   "execution_count": 90,
   "id": "3c16fecb",
   "metadata": {},
   "outputs": [
    {
     "data": {
      "text/plain": [
       "{'Name': 'Rekha', 'Age': 26, 'Income': 300000}"
      ]
     },
     "execution_count": 90,
     "metadata": {},
     "output_type": "execute_result"
    }
   ],
   "source": [
    "Emp={\"Name\":\"Rekha\",\n",
    "     \"Age\": 26,\n",
    "     \"Income\":300000}\n",
    "Emp"
   ]
  },
  {
   "cell_type": "code",
   "execution_count": 91,
   "id": "c412abd7",
   "metadata": {},
   "outputs": [],
   "source": [
    "Emp[\"Mobile\"]=9568726544"
   ]
  },
  {
   "cell_type": "code",
   "execution_count": 92,
   "id": "3d63b1a4",
   "metadata": {},
   "outputs": [
    {
     "data": {
      "text/plain": [
       "{'Name': 'Rekha', 'Age': 26, 'Income': 300000, 'Mobile': 9568726544}"
      ]
     },
     "execution_count": 92,
     "metadata": {},
     "output_type": "execute_result"
    }
   ],
   "source": [
    "Emp"
   ]
  },
  {
   "cell_type": "code",
   "execution_count": 93,
   "id": "98efedf2",
   "metadata": {},
   "outputs": [
    {
     "data": {
      "text/plain": [
       "{'EmpID': [44, 55, 66, 21, 7, 8, 19, 27],\n",
       " 'Name': ['Rekha',\n",
       "  'Vivek',\n",
       "  'Sam',\n",
       "  'Maha',\n",
       "  'Aditiya',\n",
       "  'Zubair',\n",
       "  'Mithul',\n",
       "  'Veda'],\n",
       " 'Designation': ['Developer',\n",
       "  'Tester',\n",
       "  'Architect',\n",
       "  'Team lead',\n",
       "  'Manager',\n",
       "  'Jr.Architect',\n",
       "  'Accountant',\n",
       "  'HR'],\n",
       " 'Salary': [25000, 30000, 45000, 60000, 35000, 40000, 50000, 15000]}"
      ]
     },
     "execution_count": 93,
     "metadata": {},
     "output_type": "execute_result"
    }
   ],
   "source": [
    "Guvi_Emp={\n",
    "    \"EmpID\":[44,55,66,21,7,8,19,27],\n",
    "    \"Name\": [\"Rekha\",\"Vivek\",\"Sam\",\"Maha\",\"Aditiya\",\"Zubair\",\"Mithul\",\"Veda\"],\n",
    "\"Designation\":[\"Developer\",\"Tester\",\"Architect\",\"Team lead\",\"Manager\",\"Jr.Architect\",\"Accountant\",\"HR\"],\n",
    "\"Salary\":[25000,30000,45000,60000,35000,40000,50000,15000]}\n",
    "Guvi_Emp"
   ]
  },
  {
   "cell_type": "code",
   "execution_count": 94,
   "id": "27d4dbf0",
   "metadata": {},
   "outputs": [
    {
     "data": {
      "text/plain": [
       "4"
      ]
     },
     "execution_count": 94,
     "metadata": {},
     "output_type": "execute_result"
    }
   ],
   "source": [
    "Guvi_Emp[\"EmpID\"].index(7)"
   ]
  },
  {
   "cell_type": "code",
   "execution_count": 95,
   "id": "40a08d0e",
   "metadata": {},
   "outputs": [
    {
     "name": "stdout",
     "output_type": "stream",
     "text": [
      "EmpID:5\n"
     ]
    }
   ],
   "source": [
    "Emp=5\n",
    "print(f\"EmpID:{Emp}\")"
   ]
  },
  {
   "cell_type": "code",
   "execution_count": 96,
   "id": "734a945a",
   "metadata": {},
   "outputs": [
    {
     "name": "stdout",
     "output_type": "stream",
     "text": [
      "EmpID: {Guvi_Emp['EmpID'][4]}\n"
     ]
    }
   ],
   "source": [
    "print(\"EmpID: {Guvi_Emp['EmpID'][4]}\")"
   ]
  },
  {
   "cell_type": "code",
   "execution_count": 97,
   "id": "07363ab0",
   "metadata": {},
   "outputs": [
    {
     "name": "stdout",
     "output_type": "stream",
     "text": [
      "EmpID: 7\n"
     ]
    }
   ],
   "source": [
    "print(f\"EmpID: {Guvi_Emp['EmpID'][4]}\")"
   ]
  },
  {
   "cell_type": "code",
   "execution_count": 98,
   "id": "6d989414",
   "metadata": {},
   "outputs": [
    {
     "data": {
      "text/plain": [
       "7"
      ]
     },
     "execution_count": 98,
     "metadata": {},
     "output_type": "execute_result"
    }
   ],
   "source": [
    "Guvi_Emp[\"EmpID\"][4]"
   ]
  },
  {
   "cell_type": "code",
   "execution_count": 99,
   "id": "7fede7c6",
   "metadata": {},
   "outputs": [
    {
     "name": "stdout",
     "output_type": "stream",
     "text": [
      "EmpID:7\n",
      "Emp_Name:Aditiya\n",
      "Emp_Designation:Manager\n",
      "Emp_Salary:35000\n"
     ]
    }
   ],
   "source": [
    "print(f\"EmpID:{Guvi_Emp[\"EmpID\"][4]}\")\n",
    "print(f\"Emp_Name:{Guvi_Emp[\"Name\"][4]}\")\n",
    "print(f\"Emp_Designation:{Guvi_Emp[\"Designation\"][4]}\")\n",
    "print(f\"Emp_Salary:{Guvi_Emp[\"Salary\"][4]}\")"
   ]
  },
  {
   "cell_type": "code",
   "execution_count": 100,
   "id": "97abc83a",
   "metadata": {},
   "outputs": [
    {
     "name": "stdout",
     "output_type": "stream",
     "text": [
      "<class 'str'>\n"
     ]
    }
   ],
   "source": [
    "Emp_ID=(input(\"Enter the Emp_ID: \"))\n",
    "Emp_ID\n",
    "print(type(Emp_ID))"
   ]
  },
  {
   "cell_type": "code",
   "execution_count": 8,
   "id": "bb764c17",
   "metadata": {},
   "outputs": [
    {
     "data": {
      "text/plain": [
       "'55'"
      ]
     },
     "execution_count": 8,
     "metadata": {},
     "output_type": "execute_result"
    }
   ],
   "source": [
    "Emp_ID=(input(\"Enter the Emp_ID: \"))\n",
    "Emp_ID"
   ]
  },
  {
   "cell_type": "code",
   "execution_count": 9,
   "id": "fa3c1568",
   "metadata": {},
   "outputs": [
    {
     "name": "stdout",
     "output_type": "stream",
     "text": [
      "<class 'int'>\n"
     ]
    }
   ],
   "source": [
    "Emp_ID=int(input(\"Enter the Emp_ID: \"))\n",
    "Emp_ID\n",
    "print(type(Emp_ID))"
   ]
  },
  {
   "cell_type": "code",
   "execution_count": null,
   "id": "8b599f5a",
   "metadata": {},
   "outputs": [],
   "source": [
    "User_Emp_ID=int(input(\"Enter the Emp_ID:\"))\n"
   ]
  },
  {
   "cell_type": "code",
   "execution_count": null,
   "id": "9d5cc740",
   "metadata": {},
   "outputs": [
    {
     "data": {
      "text/plain": [
       "55"
      ]
     },
     "execution_count": 36,
     "metadata": {},
     "output_type": "execute_result"
    }
   ],
   "source": [
    "User_Emp_ID"
   ]
  },
  {
   "cell_type": "code",
   "execution_count": null,
   "id": "57e9b6ca",
   "metadata": {},
   "outputs": [],
   "source": [
    "Position=Guvi_Emp[\"EmpID\"].index(User_Emp_ID)"
   ]
  },
  {
   "cell_type": "code",
   "execution_count": null,
   "id": "5c806da7",
   "metadata": {},
   "outputs": [
    {
     "data": {
      "text/plain": [
       "1"
      ]
     },
     "execution_count": 38,
     "metadata": {},
     "output_type": "execute_result"
    }
   ],
   "source": [
    "Position"
   ]
  },
  {
   "cell_type": "code",
   "execution_count": null,
   "id": "4a702fc2",
   "metadata": {},
   "outputs": [
    {
     "name": "stdout",
     "output_type": "stream",
     "text": [
      "EmpID:55\n",
      "Emp_Name:Vivek\n",
      "Emp_Designation:Tester\n",
      "Emp_Salary:30000\n"
     ]
    }
   ],
   "source": [
    "print(f\"EmpID:{Guvi_Emp[\"EmpID\"][Position]}\")\n",
    "print(f\"Emp_Name:{Guvi_Emp[\"Name\"][Position]}\")\n",
    "print(f\"Emp_Designation:{Guvi_Emp[\"Designation\"][Position]}\")\n",
    "print(f\"Emp_Salary:{Guvi_Emp[\"Salary\"][Position]}\")"
   ]
  },
  {
   "cell_type": "code",
   "execution_count": null,
   "id": "d10decfd",
   "metadata": {},
   "outputs": [
    {
     "data": {
      "text/plain": [
       "['__class__',\n",
       " '__class_getitem__',\n",
       " '__contains__',\n",
       " '__delattr__',\n",
       " '__delitem__',\n",
       " '__dir__',\n",
       " '__doc__',\n",
       " '__eq__',\n",
       " '__format__',\n",
       " '__ge__',\n",
       " '__getattribute__',\n",
       " '__getitem__',\n",
       " '__getstate__',\n",
       " '__gt__',\n",
       " '__hash__',\n",
       " '__init__',\n",
       " '__init_subclass__',\n",
       " '__ior__',\n",
       " '__iter__',\n",
       " '__le__',\n",
       " '__len__',\n",
       " '__lt__',\n",
       " '__ne__',\n",
       " '__new__',\n",
       " '__or__',\n",
       " '__reduce__',\n",
       " '__reduce_ex__',\n",
       " '__repr__',\n",
       " '__reversed__',\n",
       " '__ror__',\n",
       " '__setattr__',\n",
       " '__setitem__',\n",
       " '__sizeof__',\n",
       " '__str__',\n",
       " '__subclasshook__',\n",
       " 'clear',\n",
       " 'copy',\n",
       " 'fromkeys',\n",
       " 'get',\n",
       " 'items',\n",
       " 'keys',\n",
       " 'pop',\n",
       " 'popitem',\n",
       " 'setdefault',\n",
       " 'update',\n",
       " 'values']"
      ]
     },
     "execution_count": 42,
     "metadata": {},
     "output_type": "execute_result"
    }
   ],
   "source": [
    "dir(dict)"
   ]
  },
  {
   "cell_type": "code",
   "execution_count": null,
   "id": "48d86e2a",
   "metadata": {},
   "outputs": [
    {
     "data": {
      "text/plain": [
       "{}"
      ]
     },
     "execution_count": 45,
     "metadata": {},
     "output_type": "execute_result"
    }
   ],
   "source": [
    "Biodata={\"Name\":\"Rekha\",\"Age\":26}\n",
    "Biodata.clear()\n",
    "Biodata"
   ]
  },
  {
   "cell_type": "code",
   "execution_count": null,
   "id": "c591edde",
   "metadata": {},
   "outputs": [
    {
     "data": {
      "text/plain": [
       "{'EmpID': [44, 55, 66, 21, 7, 8, 19, 27],\n",
       " 'Name': ['Rekha',\n",
       "  'Vivek',\n",
       "  'Sam',\n",
       "  'Maha',\n",
       "  'Aditiya',\n",
       "  'Zubair',\n",
       "  'Mithul',\n",
       "  'Veda'],\n",
       " 'Designation': ['Developer',\n",
       "  'Tester',\n",
       "  'Architect',\n",
       "  'Team lead',\n",
       "  'Manager',\n",
       "  'Jr.Architect',\n",
       "  'Accountant',\n",
       "  'HR'],\n",
       " 'Salary': [25000, 30000, 45000, 60000, 35000, 40000, 50000, 15000]}"
      ]
     },
     "execution_count": 46,
     "metadata": {},
     "output_type": "execute_result"
    }
   ],
   "source": [
    "Guvi_Emp={\n",
    "    \"EmpID\":[44,55,66,21,7,8,19,27],\n",
    "    \"Name\": [\"Rekha\",\"Vivek\",\"Sam\",\"Maha\",\"Aditiya\",\"Zubair\",\"Mithul\",\"Veda\"],\n",
    "\"Designation\":[\"Developer\",\"Tester\",\"Architect\",\"Team lead\",\"Manager\",\"Jr.Architect\",\"Accountant\",\"HR\"],\n",
    "\"Salary\":[25000,30000,45000,60000,35000,40000,50000,15000]}\n",
    "Guvi_Emp"
   ]
  },
  {
   "cell_type": "code",
   "execution_count": null,
   "id": "e5b2dc13",
   "metadata": {},
   "outputs": [
    {
     "data": {
      "text/plain": [
       "{'Salary': {26, 300000, 'Rekha'},\n",
       " 'Name': {26, 300000, 'Rekha'},\n",
       " 'Age': {26, 300000, 'Rekha'}}"
      ]
     },
     "execution_count": 49,
     "metadata": {},
     "output_type": "execute_result"
    }
   ],
   "source": [
    "Keys={\"Name\",\"Age\",\"Salary\"}\n",
    "VALUES={\"Rekha\",26,300000}\n",
    "Emp=dict.fromkeys(Keys,VALUES)\n",
    "Emp"
   ]
  },
  {
   "cell_type": "code",
   "execution_count": null,
   "id": "df4a0383",
   "metadata": {},
   "outputs": [
    {
     "data": {
      "text/plain": [
       "{'Salary': {26, 300000, 'Rekha'},\n",
       " 'Name': {26, 300000, 'Rekha'},\n",
       " 'Age': {26, 300000, 'Rekha'}}"
      ]
     },
     "execution_count": 52,
     "metadata": {},
     "output_type": "execute_result"
    }
   ],
   "source": [
    "Keys={\"Name\",\"Age\",\"Salary\"}\n",
    "Values={\"Rekha\",26,300000}\n",
    "Emp=dict.fromkeys(Keys,Values)\n",
    "Emp"
   ]
  },
  {
   "cell_type": "code",
   "execution_count": null,
   "id": "d05840c7",
   "metadata": {},
   "outputs": [
    {
     "data": {
      "text/plain": [
       "{'Salary': {None}, 'Name': {None}, 'Age': {None}}"
      ]
     },
     "execution_count": 53,
     "metadata": {},
     "output_type": "execute_result"
    }
   ],
   "source": [
    "Keys={\"Name\",\"Age\",\"Salary\"}\n",
    "Values={None}\n",
    "Emp=dict.fromkeys(Keys,Values)\n",
    "Emp"
   ]
  },
  {
   "cell_type": "code",
   "execution_count": null,
   "id": "514baa98",
   "metadata": {},
   "outputs": [
    {
     "data": {
      "text/plain": [
       "dict_items([('Name', 'Rekha'), ('Age', 26), ('Income', 300000)])"
      ]
     },
     "execution_count": 54,
     "metadata": {},
     "output_type": "execute_result"
    }
   ],
   "source": [
    "Emp={\"Name\":\"Rekha\",\n",
    "     \"Age\": 26,\n",
    "     \"Income\":300000}\n",
    "Emp.items()"
   ]
  },
  {
   "cell_type": "code",
   "execution_count": null,
   "id": "59ea2c51",
   "metadata": {},
   "outputs": [
    {
     "data": {
      "text/plain": [
       "dict_keys(['Name', 'Age', 'Income'])"
      ]
     },
     "execution_count": 55,
     "metadata": {},
     "output_type": "execute_result"
    }
   ],
   "source": [
    "Emp.keys()"
   ]
  },
  {
   "cell_type": "code",
   "execution_count": null,
   "id": "47a55e7c",
   "metadata": {},
   "outputs": [
    {
     "data": {
      "text/plain": [
       "dict_values(['Rekha', 26, 300000])"
      ]
     },
     "execution_count": 56,
     "metadata": {},
     "output_type": "execute_result"
    }
   ],
   "source": [
    "Emp.values()"
   ]
  },
  {
   "cell_type": "code",
   "execution_count": null,
   "id": "135e0401",
   "metadata": {},
   "outputs": [
    {
     "data": {
      "text/plain": [
       "'Rekha'"
      ]
     },
     "execution_count": 59,
     "metadata": {},
     "output_type": "execute_result"
    }
   ],
   "source": [
    "Emp.get(\"Name\")"
   ]
  },
  {
   "cell_type": "code",
   "execution_count": null,
   "id": "c8e45787",
   "metadata": {},
   "outputs": [
    {
     "data": {
      "text/plain": [
       "26"
      ]
     },
     "execution_count": 60,
     "metadata": {},
     "output_type": "execute_result"
    }
   ],
   "source": [
    "Emp.pop(\"Age\")"
   ]
  },
  {
   "cell_type": "code",
   "execution_count": null,
   "id": "b575159c",
   "metadata": {},
   "outputs": [
    {
     "data": {
      "text/plain": [
       "{'Name': 'Rekha', 'Income': 300000}"
      ]
     },
     "execution_count": 61,
     "metadata": {},
     "output_type": "execute_result"
    }
   ],
   "source": [
    "Emp"
   ]
  },
  {
   "cell_type": "code",
   "execution_count": null,
   "id": "c14caf65",
   "metadata": {},
   "outputs": [
    {
     "data": {
      "text/plain": [
       "('Income', 300000)"
      ]
     },
     "execution_count": 62,
     "metadata": {},
     "output_type": "execute_result"
    }
   ],
   "source": [
    "Emp.popitem()"
   ]
  },
  {
   "cell_type": "code",
   "execution_count": null,
   "id": "35f90d9e",
   "metadata": {},
   "outputs": [
    {
     "data": {
      "text/plain": [
       "{'Name': 'Rekha'}"
      ]
     },
     "execution_count": 63,
     "metadata": {},
     "output_type": "execute_result"
    }
   ],
   "source": [
    "Emp"
   ]
  },
  {
   "cell_type": "code",
   "execution_count": null,
   "id": "67f11f09",
   "metadata": {},
   "outputs": [
    {
     "data": {
      "text/plain": [
       "{'Name': 'Rekha', 'Age': 27}"
      ]
     },
     "execution_count": 65,
     "metadata": {},
     "output_type": "execute_result"
    }
   ],
   "source": [
    "Emp.update({\"Age\":27})\n",
    "Emp"
   ]
  },
  {
   "cell_type": "code",
   "execution_count": null,
   "id": "9f1ff1e3",
   "metadata": {},
   "outputs": [
    {
     "data": {
      "text/plain": [
       "{'Name': 'Rekha', 'Age': 26, 'Income': 300000, 'Mobile': 9535465466}"
      ]
     },
     "execution_count": 67,
     "metadata": {},
     "output_type": "execute_result"
    }
   ],
   "source": [
    "Emp={\"Name\":\"Rekha\",\n",
    "     \"Age\": 26,\n",
    "     \"Income\":300000}\n",
    "Emp.setdefault('Mobile',9535465466)\n",
    "Emp"
   ]
  },
  {
   "cell_type": "markdown",
   "id": "e5f3ae6f",
   "metadata": {},
   "source": [
    "## Conditional statement "
   ]
  },
  {
   "cell_type": "code",
   "execution_count": null,
   "id": "2c2063e1",
   "metadata": {},
   "outputs": [],
   "source": [
    "# Simple condition\n",
    "\n",
    "Age=int(input(\"Enter your Age:\"))\n",
    "\n",
    "if Age>18:\n",
    "    print('Allow')"
   ]
  },
  {
   "cell_type": "code",
   "execution_count": null,
   "id": "bf5028a3",
   "metadata": {},
   "outputs": [
    {
     "name": "stdout",
     "output_type": "stream",
     "text": [
      "Not Allow\n"
     ]
    }
   ],
   "source": [
    "Age=int(input(\"Enter your Age:\"))\n",
    "\n",
    "if Age>18:\n",
    "    print('Allow')\n",
    "else:\n",
    "    print('Not Allow')"
   ]
  },
  {
   "cell_type": "code",
   "execution_count": null,
   "id": "7490d033",
   "metadata": {},
   "outputs": [
    {
     "name": "stdout",
     "output_type": "stream",
     "text": [
      "Allow\n"
     ]
    }
   ],
   "source": [
    "Age=int(input(\"Enter your Age:\"))\n",
    "\n",
    "if Age>18 and Age<60:\n",
    "    print('Allow')\n",
    "else:\n",
    "    print('Not Allow')"
   ]
  },
  {
   "cell_type": "code",
   "execution_count": null,
   "id": "ff2f4aec",
   "metadata": {},
   "outputs": [
    {
     "name": "stdout",
     "output_type": "stream",
     "text": [
      "Not Allow\n"
     ]
    }
   ],
   "source": [
    "Age=int(input(\"Enter your Age:\"))\n",
    "\n",
    "if Age>18 and Age<60:\n",
    "    print('Allow')\n",
    "else:\n",
    "    print('Not Allow')"
   ]
  },
  {
   "cell_type": "code",
   "execution_count": null,
   "id": "5ce83d43",
   "metadata": {},
   "outputs": [
    {
     "name": "stdout",
     "output_type": "stream",
     "text": [
      "Not Allow\n"
     ]
    }
   ],
   "source": [
    "Age=int(input(\"Enter your Age:\"))\n",
    "\n",
    "if Age>18 and Age<60:\n",
    "    print('Allow')\n",
    "else:\n",
    "    print('Not Allow')\n",
    "    "
   ]
  },
  {
   "cell_type": "code",
   "execution_count": null,
   "id": "b8ee9663",
   "metadata": {},
   "outputs": [
    {
     "name": "stdout",
     "output_type": "stream",
     "text": [
      "Allow\n"
     ]
    }
   ],
   "source": [
    "Age=int(input(\"Enter your Age:\"))\n",
    "\n",
    "if Age>=18 and Age<=60:\n",
    "    print('Allow')\n",
    "else:\n",
    "    print('Not Allow')"
   ]
  },
  {
   "cell_type": "code",
   "execution_count": null,
   "id": "ebf4e0eb",
   "metadata": {},
   "outputs": [
    {
     "name": "stdout",
     "output_type": "stream",
     "text": [
      "Fail\n"
     ]
    }
   ],
   "source": [
    "Mark=int(input(\"Enter your Mark:\"))\n",
    "if Mark>=35:\n",
    "    print('Pass')\n",
    "else:\n",
    "    print('Fail')"
   ]
  },
  {
   "cell_type": "code",
   "execution_count": 125,
   "id": "5dff4095",
   "metadata": {},
   "outputs": [
    {
     "name": "stdout",
     "output_type": "stream",
     "text": [
      "RekhaYour Mark is 66 and you are Eligible for Diploma \n"
     ]
    }
   ],
   "source": [
    "# 100-91 Doctor,90-81 Engineer,80-71 Arts,70-41 Diploma,40-0 Fail\n",
    "# Rekha your Mark is 75 and you are Eligible for Diploma\n",
    "\n",
    "Name=input('Enter your Name:')\n",
    "Mark=int(input('Enter your Mark:'))\n",
    "if Mark>=91 and Mark<=100:\n",
    "    print(f\"{Name}Your Mark is {Mark} and you are Eligible for Doctor\")\n",
    "elif Mark>=81 and Mark<=90:\n",
    "   print(f\"{Name}Your Mark is {Mark} and you are Eligible for Engineer\")\n",
    "elif Mark>=71 and Mark<=80:\n",
    "    print(f\"{Name}Your Mark is {Mark} and you are Eligible for Arts\")\n",
    "elif Mark>=41 and Mark<=70:\n",
    "    print(f\"{Name}Your Mark is {Mark} and you are Eligible for Diploma \")\n",
    "else: \n",
    "    print(f'{Name} Your Mark {Mark} and you are Fail')"
   ]
  },
  {
   "cell_type": "code",
   "execution_count": null,
   "id": "9f0e0a8f",
   "metadata": {},
   "outputs": [
    {
     "name": "stdout",
     "output_type": "stream",
     "text": [
      "RekhaYour Mark is 95 and your Neet score98Since are Eligible for Doctor\n"
     ]
    }
   ],
   "source": [
    "# 100-91 Doctor,90-81 Engineer,80-71 Arts,70-41 Diploma,40-0 Fail\n",
    "#   Neet >90 Doctor eligible\n",
    "\n",
    "Name=input('Enter your Name:')\n",
    "Mark=int(input('Enter your Mark:'))\n",
    "\n",
    "if Mark>=91 and Mark<=100:\n",
    "    Neet=int(input('Enter your Neet score:'))\n",
    "    if Neet>=90:\n",
    "        print(f\"{Name}Your Mark is {Mark} and your Neet score{Neet}Since are Eligible for Doctor\")\n",
    "    else:\n",
    "        print(f'{Name} Your Mark is {Mark} and your Neet score{Neet}Since are Eligible for Doctor you can try for other courses')\n",
    "\n",
    "\n",
    "elif Mark>=18 and Mark<=90:\n",
    "    print(f'{Name} Your Mark is {Mark} and you are Eligible for Engineer')\n",
    "\n",
    "elif Mark>=71 and Mark<=80:\n",
    "    print(f'{Name} Your Mark is {Mark} and you are Eligible for Arts')\n",
    "\n",
    "elif Mark>=41 and Mark<=70:\n",
    "    print(f'{Name} Your Mark is {Mark} and you are Eligible for Diploma')\n",
    "\n",
    "else:\n",
    "    print(f'{Name} Your Mark {Mark} and you are Fail')\n",
    "\n"
   ]
  },
  {
   "cell_type": "code",
   "execution_count": 7,
   "id": "08faa16b",
   "metadata": {},
   "outputs": [
    {
     "name": "stdout",
     "output_type": "stream",
     "text": [
      "Rekha Your Mark is 73 and your Neet score88Since you are not Eligible for Doctor you can try for other courses\n"
     ]
    }
   ],
   "source": [
    "Name=input('Enter your Name:')\n",
    "Mark=int(input('Enter your Mark:'))\n",
    "Neet=int(input('Enter your Neet score'))\n",
    "\n",
    "if Neet>=90:\n",
    "        print(f\"{Name}Your Mark is {Mark} and your Neet score{Neet}Since you are Eligible for Doctor\")\n",
    "else:\n",
    "        print(f'{Name} Your Mark is {Mark} and your Neet score{Neet}Since you are not Eligible for Doctor you can try for other courses')"
   ]
  },
  {
   "cell_type": "markdown",
   "id": "383a7b74",
   "metadata": {},
   "source": [
    "# LOOPS"
   ]
  },
  {
   "cell_type": "code",
   "execution_count": 12,
   "id": "d63cfdac",
   "metadata": {},
   "outputs": [
    {
     "name": "stdout",
     "output_type": "stream",
     "text": [
      "Raja\n",
      "Ravi\n",
      "Rani\n",
      "Ramu\n"
     ]
    }
   ],
   "source": [
    "Name=['Raja','Ravi','Rani','Ramu']\n",
    "\n",
    "for i in Name:\n",
    "    print(i)"
   ]
  },
  {
   "cell_type": "code",
   "execution_count": 14,
   "id": "93dce818",
   "metadata": {},
   "outputs": [
    {
     "name": "stdout",
     "output_type": "stream",
     "text": [
      "Raja\n",
      "Ravi\n",
      "Rani\n",
      "Ramu\n"
     ]
    }
   ],
   "source": [
    "for A in Name:\n",
    "    print(A)"
   ]
  },
  {
   "cell_type": "code",
   "execution_count": 15,
   "id": "19236ec9",
   "metadata": {},
   "outputs": [
    {
     "name": "stdout",
     "output_type": "stream",
     "text": [
      "['Raja', 'Ravi', 'Rani', 'Ramu']\n",
      "['Raja', 'Ravi', 'Rani', 'Ramu']\n",
      "['Raja', 'Ravi', 'Rani', 'Ramu']\n",
      "['Raja', 'Ravi', 'Rani', 'Ramu']\n"
     ]
    }
   ],
   "source": [
    "for A in Name:\n",
    "    print(Name)"
   ]
  },
  {
   "cell_type": "code",
   "execution_count": 31,
   "id": "094595a1",
   "metadata": {},
   "outputs": [
    {
     "name": "stdout",
     "output_type": "stream",
     "text": [
      "Rekha\n",
      "Rekha\n",
      "Rekha\n",
      "Rekha\n",
      "Rekha\n"
     ]
    }
   ],
   "source": [
    "Name='Rekha'\n",
    "for i in Name:\n",
    "    print(Name)"
   ]
  },
  {
   "cell_type": "code",
   "execution_count": 32,
   "id": "3e07fd9d",
   "metadata": {},
   "outputs": [
    {
     "name": "stdout",
     "output_type": "stream",
     "text": [
      "0\n",
      "1\n",
      "2\n",
      "3\n",
      "4\n",
      "5\n",
      "6\n",
      "7\n",
      "8\n",
      "9\n"
     ]
    }
   ],
   "source": [
    "for i in range(0,10):\n",
    "    print(i)"
   ]
  },
  {
   "cell_type": "code",
   "execution_count": 30,
   "id": "5e3ec851",
   "metadata": {},
   "outputs": [
    {
     "name": "stdout",
     "output_type": "stream",
     "text": [
      "3.0\n",
      "3\n",
      "0\n"
     ]
    }
   ],
   "source": [
    "A=7\n",
    "print(6/2)\n",
    "print(6//2)\n",
    "print(6%2)"
   ]
  },
  {
   "cell_type": "code",
   "execution_count": 5,
   "id": "8f491f58",
   "metadata": {},
   "outputs": [
    {
     "name": "stdout",
     "output_type": "stream",
     "text": [
      "Odd\n"
     ]
    }
   ],
   "source": [
    "if A%2==0:\n",
    "  print('Even')\n",
    "else:\n",
    "  print('Odd')"
   ]
  },
  {
   "cell_type": "code",
   "execution_count": 1,
   "id": "84c016d2",
   "metadata": {},
   "outputs": [
    {
     "name": "stdout",
     "output_type": "stream",
     "text": [
      "10 is Even\n",
      "20 is Even\n",
      "78 is Even\n",
      "44 is Even\n",
      "22 is Even\n",
      "68 is Even\n",
      "68 is Odd\n"
     ]
    }
   ],
   "source": [
    "Nums=[10,20,39,67,78,44,25,22,68]\n",
    "\n",
    "for n in Nums:\n",
    "\n",
    " if n%2==0:\n",
    "    print(f'{n} is Even')\n",
    "else:\n",
    "    print(f'{n} is Odd')\n",
    "    "
   ]
  },
  {
   "cell_type": "code",
   "execution_count": 28,
   "id": "e5b81871",
   "metadata": {},
   "outputs": [
    {
     "name": "stdout",
     "output_type": "stream",
     "text": [
      "Rekha\n",
      "Arun\n"
     ]
    }
   ],
   "source": [
    "Num1=input()\n",
    "Num2=input()\n",
    "print(Num1)\n",
    "print(Num2)"
   ]
  },
  {
   "cell_type": "code",
   "execution_count": 54,
   "id": "5d66c852",
   "metadata": {},
   "outputs": [
    {
     "name": "stdout",
     "output_type": "stream",
     "text": [
      "10 is Even\n",
      "20 is Even\n",
      "78 is Even\n",
      "44 is Even\n",
      "22 is Even\n",
      "68 is Even\n",
      "68 is Odd\n"
     ]
    }
   ],
   "source": [
    "Nums=[10,20,39,67,78,44,25,22,68]\n",
    "\n",
    "for n in Nums:\n",
    "\n",
    " if n%2==0:\n",
    "    print(f'{n} is Even')\n",
    "else:\n",
    "    print(f'{n} is Odd')"
   ]
  },
  {
   "cell_type": "code",
   "execution_count": 56,
   "id": "9094828a",
   "metadata": {},
   "outputs": [
    {
     "name": "stdout",
     "output_type": "stream",
     "text": [
      "[10, 20, 78, 44, 22]\n",
      "[15]\n"
     ]
    }
   ],
   "source": [
    "Nums=[10,20,39,67,78,44,25,22,15]\n",
    "odd=[]\n",
    "even=[]\n",
    "\n",
    "\n",
    "for i in Nums:\n",
    "\n",
    " if i%2==0:\n",
    "    even.append(i)\n",
    "else:\n",
    "    odd.append(i)\n",
    "\n",
    "print(even)\n",
    "print(odd)"
   ]
  },
  {
   "cell_type": "code",
   "execution_count": 57,
   "id": "ea242b40",
   "metadata": {},
   "outputs": [
    {
     "name": "stdout",
     "output_type": "stream",
     "text": [
      "10 20 78 44 22\n",
      "15\n"
     ]
    }
   ],
   "source": [
    "print(*even)\n",
    "print(*odd)"
   ]
  },
  {
   "cell_type": "code",
   "execution_count": 60,
   "id": "8238c9b3",
   "metadata": {},
   "outputs": [
    {
     "name": "stdout",
     "output_type": "stream",
     "text": [
      "Lion Tiger Cat Monkey Deer\n"
     ]
    }
   ],
   "source": [
    "Animals=['Lion','Tiger','Cat','Monkey','Deer']\n",
    "print(' '.join(Animals))"
   ]
  },
  {
   "cell_type": "code",
   "execution_count": 2,
   "id": "8750c0db",
   "metadata": {},
   "outputs": [
    {
     "name": "stdout",
     "output_type": "stream",
     "text": [
      "Lion$Tiger$Cat$Monkey$Deer\n",
      "Lion$Tiger$Cat$Monkey$Deer\n",
      "Lion$Tiger$Cat$Monkey$Deer\n",
      "Lion$Tiger$Cat$Monkey$Deer\n",
      "Lion$Tiger$Cat$Monkey$Deer\n"
     ]
    }
   ],
   "source": [
    "Animals=['Lion','Tiger','Cat','Monkey','Deer']\n",
    "for o in Animals:\n",
    "    print('$'.join(Animals))"
   ]
  },
  {
   "cell_type": "code",
   "execution_count": 63,
   "id": "50ab7602",
   "metadata": {},
   "outputs": [
    {
     "name": "stdout",
     "output_type": "stream",
     "text": [
      "39 is Odd\n",
      "78 is Odd\n",
      "3 is Odd\n",
      "6 is Odd\n",
      "9 is Odd\n",
      "10 is Odd\n",
      "10 is Even\n"
     ]
    }
   ],
   "source": [
    "Nums=[10,20,39,67,78,44,25,22,68,23,89,172,437,209,122,65,932,104,1,2,3,4,5,6,7,8,9,10]\n",
    "\n",
    "for n in Nums:\n",
    " if n%3==0:\n",
    "    print(f'{n} is Odd')\n",
    "if n%5==0:\n",
    "   print(f'{n} is Odd')\n",
    "if n%7==0:\n",
    "  print(f'{n} is Odd')   \n",
    "else:\n",
    "  print(f'{n} is Even')"
   ]
  },
  {
   "cell_type": "code",
   "execution_count": 6,
   "id": "3e269dca",
   "metadata": {},
   "outputs": [
    {
     "ename": "NameError",
     "evalue": "name 'odd' is not defined",
     "output_type": "error",
     "traceback": [
      "\u001b[31m---------------------------------------------------------------------------\u001b[39m",
      "\u001b[31mNameError\u001b[39m                                 Traceback (most recent call last)",
      "\u001b[36mCell\u001b[39m\u001b[36m \u001b[39m\u001b[32mIn[6]\u001b[39m\u001b[32m, line 10\u001b[39m\n\u001b[32m      8\u001b[39m    odd.append(i)\n\u001b[32m      9\u001b[39m \u001b[38;5;28;01mif\u001b[39;00m i%\u001b[32m5\u001b[39m==\u001b[32m0\u001b[39m:\n\u001b[32m---> \u001b[39m\u001b[32m10\u001b[39m   \u001b[43modd\u001b[49m.append(i)\n\u001b[32m     11\u001b[39m \u001b[38;5;28;01mif\u001b[39;00m i%\u001b[32m7\u001b[39m==\u001b[32m0\u001b[39m:\n\u001b[32m     12\u001b[39m    odd.append(i)\n",
      "\u001b[31mNameError\u001b[39m: name 'odd' is not defined"
     ]
    }
   ],
   "source": [
    "Nums=[10,20,39,67,78,44,25,22,68,23,89,172,437,209,122,65,932,104,1,2,3,4,5,6,7,8,9,10]\n",
    "\n",
    "\n",
    "\n",
    "for i in Nums:\n",
    "\n",
    " if i%3==0:\n",
    "    odd.append(i)\n",
    " if i%5==0:\n",
    "   odd.append(i)\n",
    " if i%7==0:\n",
    "    odd.append(i)\n",
    "else:\n",
    "    even.append(i)\n",
    "    \n",
    "print(i)\n",
    "print(i)\n",
    "print(i)"
   ]
  },
  {
   "cell_type": "code",
   "execution_count": 3,
   "id": "0e654ced",
   "metadata": {},
   "outputs": [
    {
     "name": "stdout",
     "output_type": "stream",
     "text": [
      "Lion@Tiger@Cat@Monkey@Deer\n"
     ]
    }
   ],
   "source": [
    "Animals=['Lion','Tiger','Cat','Monkey','Deer']\n",
    "\n",
    "print('@'.join(Animals))"
   ]
  },
  {
   "cell_type": "code",
   "execution_count": 1,
   "id": "a2984fe2",
   "metadata": {},
   "outputs": [],
   "source": [
    "Animals=['Lion','Tiger','Cat','Monkey','Deer']\n"
   ]
  },
  {
   "cell_type": "code",
   "execution_count": null,
   "id": "849a43c9",
   "metadata": {},
   "outputs": [],
   "source": []
  }
 ],
 "metadata": {
  "kernelspec": {
   "display_name": "Python 3",
   "language": "python",
   "name": "python3"
  },
  "language_info": {
   "codemirror_mode": {
    "name": "ipython",
    "version": 3
   },
   "file_extension": ".py",
   "mimetype": "text/x-python",
   "name": "python",
   "nbconvert_exporter": "python",
   "pygments_lexer": "ipython3",
   "version": "3.12.10"
  }
 },
 "nbformat": 4,
 "nbformat_minor": 5
}
