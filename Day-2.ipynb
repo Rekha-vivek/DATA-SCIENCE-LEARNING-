{
 "cells": [
  {
   "cell_type": "markdown",
   "id": "f5b627bd",
   "metadata": {},
   "source": [
    "# variables"
   ]
  },
  {
   "cell_type": "code",
   "execution_count": null,
   "id": "541827a9",
   "metadata": {},
   "outputs": [],
   "source": [
    "A=10\n",
    "B=\"Hello guvi\"\n",
    "C=(1,2,3,4)"
   ]
  },
  {
   "cell_type": "code",
   "execution_count": null,
   "id": "7f1a7ffa",
   "metadata": {},
   "outputs": [],
   "source": [
    "print(A)"
   ]
  },
  {
   "cell_type": "code",
   "execution_count": null,
   "id": "7f8484e8",
   "metadata": {},
   "outputs": [],
   "source": [
    "user_name=\"Rekha\""
   ]
  },
  {
   "cell_type": "code",
   "execution_count": null,
   "id": "b1865441",
   "metadata": {},
   "outputs": [],
   "source": [
    "user_1=\"Rekha\""
   ]
  },
  {
   "cell_type": "code",
   "execution_count": null,
   "id": "ba1fe7cf",
   "metadata": {},
   "outputs": [],
   "source": [
    "A=10\n",
    "a=30\n",
    "print(a+A)"
   ]
  },
  {
   "cell_type": "markdown",
   "id": "c484547f",
   "metadata": {},
   "source": [
    "# Data Types"
   ]
  },
  {
   "cell_type": "markdown",
   "id": "9111a037",
   "metadata": {},
   "source": [
    "\n",
    "Name =\"rekha\" # String\n",
    "Age= 25 # Int\n",
    "Height=5.6 #Float\n",
    "Exam_Results=True # True/False  Bool\n",
    "\n",
    "Mail=\"Rekha123@gmail.com\" # String\n",
    "#Adhar # Int\n",
    "#Pan # String\n",
    "#Bank Acc # Int\n",
    "Ip address= \"169.567.68.58\" # String\n",
    "\n",
    "Passport=None"
   ]
  },
  {
   "cell_type": "code",
   "execution_count": null,
   "id": "38ad36bf",
   "metadata": {},
   "outputs": [],
   "source": [
    "print(Passport)"
   ]
  },
  {
   "cell_type": "markdown",
   "id": "3c0f7485",
   "metadata": {},
   "source": [
    "# Data Structure"
   ]
  },
  {
   "cell_type": "code",
   "execution_count": null,
   "id": "3b8287fa",
   "metadata": {},
   "outputs": [],
   "source": [
    "# List\n",
    "# Tuple\n",
    "# Set\n",
    "# Dict\n",
    "\n"
   ]
  },
  {
   "cell_type": "markdown",
   "id": "aace9a1b",
   "metadata": {},
   "source": [
    "# List\n"
   ]
  },
  {
   "cell_type": "code",
   "execution_count": null,
   "id": "5663095a",
   "metadata": {},
   "outputs": [],
   "source": [
    "L=[10,\"Guvi\",3.45,True,[1,2,3,4]] # List can store all data type and data structure, List can Mutable, Duplicate accepted\n",
    " #  0    1     2    3     4  "
   ]
  },
  {
   "cell_type": "code",
   "execution_count": null,
   "id": "0800e95d",
   "metadata": {},
   "outputs": [],
   "source": [
    "L[2]"
   ]
  },
  {
   "cell_type": "code",
   "execution_count": null,
   "id": "ed2515f2",
   "metadata": {},
   "outputs": [],
   "source": [
    "L=[10,\"Guvi\",3.45,True,[1,2,3,4],\"Guvi\",\"Hi MDT51\"] # List can store all data type and data structure, List can Mutable, Duplicate accepted\n",
    " #  0    1     2    3     4         5       6"
   ]
  },
  {
   "cell_type": "code",
   "execution_count": null,
   "id": "8a7aede5",
   "metadata": {},
   "outputs": [],
   "source": [
    "len(L)-1"
   ]
  },
  {
   "cell_type": "code",
   "execution_count": null,
   "id": "a92a168a",
   "metadata": {},
   "outputs": [],
   "source": [
    "L[len(L)//2]"
   ]
  },
  {
   "cell_type": "code",
   "execution_count": null,
   "id": "d5694750",
   "metadata": {},
   "outputs": [],
   "source": [
    "L[len(L)//2:]"
   ]
  },
  {
   "cell_type": "code",
   "execution_count": null,
   "id": "b467885e",
   "metadata": {},
   "outputs": [],
   "source": [
    "L[2]"
   ]
  },
  {
   "cell_type": "code",
   "execution_count": null,
   "id": "271b2352",
   "metadata": {},
   "outputs": [],
   "source": [
    "L[3]"
   ]
  },
  {
   "cell_type": "code",
   "execution_count": null,
   "id": "d8118fe2",
   "metadata": {},
   "outputs": [],
   "source": [
    "L[4]"
   ]
  },
  {
   "cell_type": "code",
   "execution_count": null,
   "id": "10235e4b",
   "metadata": {},
   "outputs": [],
   "source": [
    "L[4][2]"
   ]
  },
  {
   "cell_type": "code",
   "execution_count": null,
   "id": "6a892852",
   "metadata": {},
   "outputs": [],
   "source": [
    "L[1]"
   ]
  },
  {
   "cell_type": "code",
   "execution_count": null,
   "id": "42b4f5ad",
   "metadata": {},
   "outputs": [],
   "source": [
    "L[1][2]"
   ]
  },
  {
   "cell_type": "code",
   "execution_count": null,
   "id": "5f4172bf",
   "metadata": {},
   "outputs": [],
   "source": [
    "len(L)-1"
   ]
  },
  {
   "cell_type": "code",
   "execution_count": null,
   "id": "995b7339",
   "metadata": {},
   "outputs": [],
   "source": [
    "L2=[1,2,3,4,5,6,7,8,9,10]\n",
    "L2"
   ]
  },
  {
   "cell_type": "code",
   "execution_count": null,
   "id": "cae4f8ea",
   "metadata": {},
   "outputs": [],
   "source": [
    "L2[-2]"
   ]
  },
  {
   "cell_type": "code",
   "execution_count": null,
   "id": "32ce1165",
   "metadata": {},
   "outputs": [],
   "source": [
    "L2[::-1]"
   ]
  },
  {
   "cell_type": "code",
   "execution_count": null,
   "id": "b8450ec1",
   "metadata": {},
   "outputs": [],
   "source": [
    "L2[0:4]"
   ]
  },
  {
   "cell_type": "code",
   "execution_count": null,
   "id": "f7ac48b9",
   "metadata": {},
   "outputs": [],
   "source": [
    "L2[0:5]"
   ]
  },
  {
   "cell_type": "code",
   "execution_count": null,
   "id": "997c423e",
   "metadata": {},
   "outputs": [],
   "source": [
    "L2[4:8]"
   ]
  },
  {
   "cell_type": "code",
   "execution_count": null,
   "id": "a57e419f",
   "metadata": {},
   "outputs": [],
   "source": [
    "Box=[\"A\",\"B\",\"C\",\"D\",\"E\",\"F\",\"G\",\"H\",\"I\"]\n",
    "Box"
   ]
  },
  {
   "cell_type": "code",
   "execution_count": null,
   "id": "ecefff43",
   "metadata": {},
   "outputs": [],
   "source": [
    "Box[0:]"
   ]
  },
  {
   "cell_type": "code",
   "execution_count": null,
   "id": "df40cd51",
   "metadata": {},
   "outputs": [],
   "source": [
    "Box[3:]"
   ]
  },
  {
   "cell_type": "code",
   "execution_count": null,
   "id": "eeb62abb",
   "metadata": {},
   "outputs": [],
   "source": [
    "Box[0:9]"
   ]
  },
  {
   "cell_type": "code",
   "execution_count": null,
   "id": "68cc24af",
   "metadata": {},
   "outputs": [],
   "source": [
    "Box[0:9:2]"
   ]
  },
  {
   "cell_type": "code",
   "execution_count": null,
   "id": "6c26372e",
   "metadata": {},
   "outputs": [],
   "source": [
    "Box[0:9:3]"
   ]
  },
  {
   "cell_type": "code",
   "execution_count": null,
   "id": "52eac5b4",
   "metadata": {},
   "outputs": [],
   "source": [
    "Box[0:9:1]"
   ]
  },
  {
   "cell_type": "code",
   "execution_count": null,
   "id": "c4976ecf",
   "metadata": {},
   "outputs": [],
   "source": [
    "Box[2:7:2]"
   ]
  },
  {
   "cell_type": "code",
   "execution_count": null,
   "id": "efd7fb4b",
   "metadata": {},
   "outputs": [],
   "source": [
    "Fruits=['Apple','Banana','Grapes','Mango','Orange']\n",
    "Fruits"
   ]
  },
  {
   "cell_type": "code",
   "execution_count": null,
   "id": "1b56566a",
   "metadata": {},
   "outputs": [],
   "source": [
    "Fruits[2]='Blueberry'"
   ]
  },
  {
   "cell_type": "code",
   "execution_count": null,
   "id": "8a862003",
   "metadata": {},
   "outputs": [],
   "source": [
    "Fruits"
   ]
  },
  {
   "cell_type": "code",
   "execution_count": null,
   "id": "dc32add7",
   "metadata": {},
   "outputs": [],
   "source": [
    "Fruits.append('Guava')\n",
    "Fruits"
   ]
  },
  {
   "cell_type": "code",
   "execution_count": null,
   "id": "9a959af3",
   "metadata": {},
   "outputs": [],
   "source": [
    "Fruits.insert(1,'grape')\n",
    "Fruits"
   ]
  },
  {
   "cell_type": "code",
   "execution_count": null,
   "id": "84abc8b9",
   "metadata": {},
   "outputs": [],
   "source": [
    "Fruits.pop()"
   ]
  },
  {
   "cell_type": "code",
   "execution_count": null,
   "id": "441ab4f9",
   "metadata": {},
   "outputs": [],
   "source": [
    "Fruits.pop()"
   ]
  },
  {
   "cell_type": "code",
   "execution_count": null,
   "id": "112ec7be",
   "metadata": {},
   "outputs": [],
   "source": [
    "Fruits.remove('Mango')\n",
    "Fruits"
   ]
  },
  {
   "cell_type": "code",
   "execution_count": null,
   "id": "0e487161",
   "metadata": {},
   "outputs": [],
   "source": [
    "Fruits=['Apple','Banana','Grapes','Mango','Orange','Banana']\n",
    "Fruits"
   ]
  },
  {
   "cell_type": "code",
   "execution_count": null,
   "id": "8eba2b6e",
   "metadata": {},
   "outputs": [],
   "source": [
    "Fruits.count('Banana')"
   ]
  },
  {
   "cell_type": "code",
   "execution_count": null,
   "id": "ae4754ff",
   "metadata": {},
   "outputs": [],
   "source": [
    "Fruits.index('Grapes')"
   ]
  },
  {
   "cell_type": "code",
   "execution_count": null,
   "id": "2cc51665",
   "metadata": {},
   "outputs": [],
   "source": [
    "dir(list)"
   ]
  },
  {
   "cell_type": "code",
   "execution_count": null,
   "id": "15d11c7a",
   "metadata": {},
   "outputs": [],
   "source": [
    "Fruits=['Apple','Banana','Grapes','Mango','Orange','Banana']\n",
    "Fruits.reverse()\n",
    "Fruits"
   ]
  },
  {
   "cell_type": "code",
   "execution_count": null,
   "id": "e9477780",
   "metadata": {},
   "outputs": [],
   "source": [
    "Fruits[::1]"
   ]
  },
  {
   "cell_type": "code",
   "execution_count": null,
   "id": "422afcc3",
   "metadata": {},
   "outputs": [],
   "source": [
    "Fruits[::1]"
   ]
  },
  {
   "cell_type": "code",
   "execution_count": null,
   "id": "6db86aaf",
   "metadata": {},
   "outputs": [],
   "source": [
    "Fruits.sort()\n",
    "Fruits"
   ]
  },
  {
   "cell_type": "code",
   "execution_count": null,
   "id": "976e0740",
   "metadata": {},
   "outputs": [],
   "source": [
    "Fruits=['Apple','Banana','Grapes','Mango','Orange','Banana']\n",
    "Fruits.sort()\n",
    "Fruits"
   ]
  },
  {
   "cell_type": "code",
   "execution_count": null,
   "id": "eec4a88f",
   "metadata": {},
   "outputs": [],
   "source": [
    "Fruits.sort(reverse=True)\n",
    "Fruits"
   ]
  },
  {
   "cell_type": "code",
   "execution_count": null,
   "id": "457855b6",
   "metadata": {},
   "outputs": [],
   "source": [
    "Fruits=['Apple','Banana','Grapes','Mango','Orange','Banana']\n",
    "Fruits.copy()\n",
    "Fruits"
   ]
  },
  {
   "cell_type": "code",
   "execution_count": null,
   "id": "afdbe384",
   "metadata": {},
   "outputs": [],
   "source": [
    "Fruits_Copy=Fruits.copy()"
   ]
  },
  {
   "cell_type": "code",
   "execution_count": null,
   "id": "32a313b0",
   "metadata": {},
   "outputs": [],
   "source": [
    "Fruits_Copy"
   ]
  },
  {
   "cell_type": "code",
   "execution_count": null,
   "id": "225fdd6b",
   "metadata": {},
   "outputs": [],
   "source": [
    "Fruits_Copy.pop(2)"
   ]
  },
  {
   "cell_type": "code",
   "execution_count": null,
   "id": "5f80b88a",
   "metadata": {},
   "outputs": [],
   "source": [
    "Fruits_Copy"
   ]
  },
  {
   "cell_type": "code",
   "execution_count": null,
   "id": "01b9a3f6",
   "metadata": {},
   "outputs": [],
   "source": [
    "Fruits"
   ]
  },
  {
   "cell_type": "code",
   "execution_count": null,
   "id": "aa9171e3",
   "metadata": {},
   "outputs": [],
   "source": [
    "Fruits_1=Fruits"
   ]
  },
  {
   "cell_type": "code",
   "execution_count": null,
   "id": "d8dc3fe0",
   "metadata": {},
   "outputs": [],
   "source": [
    "Fruits_1"
   ]
  },
  {
   "cell_type": "code",
   "execution_count": null,
   "id": "bffcce02",
   "metadata": {},
   "outputs": [],
   "source": [
    "Fruits_1.pop(2)"
   ]
  },
  {
   "cell_type": "code",
   "execution_count": null,
   "id": "6a9501f3",
   "metadata": {},
   "outputs": [],
   "source": [
    "Fruits_1"
   ]
  },
  {
   "cell_type": "code",
   "execution_count": null,
   "id": "24850478",
   "metadata": {},
   "outputs": [],
   "source": [
    "Fruits=['Apple','Banana','Grapes','Mango','Orange','Banana']\n",
    "Fruits"
   ]
  },
  {
   "cell_type": "code",
   "execution_count": null,
   "id": "ae77c0b0",
   "metadata": {},
   "outputs": [],
   "source": [
    "Veggies=['Tomato','Potato','Brinjal']\n",
    "Veggies"
   ]
  },
  {
   "cell_type": "code",
   "execution_count": null,
   "id": "49bf1275",
   "metadata": {},
   "outputs": [],
   "source": [
    "Fruits.append(Veggies)\n",
    "Fruits"
   ]
  },
  {
   "cell_type": "code",
   "execution_count": null,
   "id": "8f44ea42",
   "metadata": {},
   "outputs": [],
   "source": [
    "Fruits=['Apple','Banana','Grapes','Mango','Orange','Banana']\n",
    "Fruits"
   ]
  },
  {
   "cell_type": "code",
   "execution_count": null,
   "id": "38aa6b63",
   "metadata": {},
   "outputs": [],
   "source": [
    "Veggies=['Tomato','Potato','Brinjal']\n",
    "Veggies"
   ]
  },
  {
   "cell_type": "code",
   "execution_count": null,
   "id": "53a5d241",
   "metadata": {},
   "outputs": [],
   "source": [
    "Fruits.extend(Veggies)\n",
    "Fruits"
   ]
  },
  {
   "cell_type": "markdown",
   "id": "2ef43208",
   "metadata": {},
   "source": [
    "# Tuple"
   ]
  },
  {
   "cell_type": "code",
   "execution_count": null,
   "id": "24504c5c",
   "metadata": {},
   "outputs": [],
   "source": [
    "dir(tuple)"
   ]
  },
  {
   "cell_type": "code",
   "execution_count": null,
   "id": "147c04f4",
   "metadata": {},
   "outputs": [],
   "source": [
    "Std_detail=('Rekha',26,'Barch','III',[56,67]) # Tuple can store any data types./ Data structure, Immutalbe[can't add or remove or modify]Tuple allow duplicates\n",
    "Std_detail"
   ]
  },
  {
   "cell_type": "code",
   "execution_count": null,
   "id": "7f887af0",
   "metadata": {},
   "outputs": [],
   "source": [
    "Std_detail[4][1]=65"
   ]
  },
  {
   "cell_type": "code",
   "execution_count": null,
   "id": "4b52d06b",
   "metadata": {},
   "outputs": [],
   "source": [
    "Std_detail"
   ]
  },
  {
   "cell_type": "code",
   "execution_count": null,
   "id": "8b30a76c",
   "metadata": {},
   "outputs": [],
   "source": [
    "Std_detail.index('Barch')"
   ]
  },
  {
   "cell_type": "code",
   "execution_count": null,
   "id": "abbb5084",
   "metadata": {},
   "outputs": [],
   "source": [
    "Std_detail.count('Barch')"
   ]
  },
  {
   "cell_type": "markdown",
   "id": "dccf4282",
   "metadata": {},
   "source": [
    "# Set"
   ]
  },
  {
   "cell_type": "code",
   "execution_count": null,
   "id": "159a8577",
   "metadata": {},
   "outputs": [],
   "source": [
    "set1={1,2,3,4,5,6,7,8,9,10,('a','b','c')}\n",
    "set1"
   ]
  },
  {
   "cell_type": "code",
   "execution_count": null,
   "id": "4ca1cd4d",
   "metadata": {},
   "outputs": [],
   "source": [
    "dir(set)"
   ]
  },
  {
   "cell_type": "code",
   "execution_count": null,
   "id": "f700202c",
   "metadata": {},
   "outputs": [],
   "source": [
    "Set_fruits={'Apple','Banana','Grapes','Mango','Orange','Banana'}\n",
    "Set_fruits"
   ]
  },
  {
   "cell_type": "code",
   "execution_count": null,
   "id": "31050c86",
   "metadata": {},
   "outputs": [],
   "source": [
    "Carton={'USA','UK','UAE','UK','UAE','USA','UK','USA','UK','UAE','USA','JP'}  \n",
    "\n",
    "set(Carton)"
   ]
  },
  {
   "cell_type": "code",
   "execution_count": null,
   "id": "deb3ccf9",
   "metadata": {},
   "outputs": [],
   "source": [
    "Set_fruits={'Apple','Banana','Grapes','Mango','Orange','Banana'}\n",
    "Set_fruits"
   ]
  },
  {
   "cell_type": "code",
   "execution_count": null,
   "id": "d49dcec0",
   "metadata": {},
   "outputs": [],
   "source": [
    "Set_fruits.add('Melon')"
   ]
  },
  {
   "cell_type": "code",
   "execution_count": null,
   "id": "4b667f52",
   "metadata": {},
   "outputs": [],
   "source": [
    "Set_fruits"
   ]
  },
  {
   "cell_type": "code",
   "execution_count": null,
   "id": "f68d5534",
   "metadata": {},
   "outputs": [],
   "source": [
    "fruits_1={'Apple','Banana','Grapes','Mango','Orange','Banana'}\n",
    "fruits_2={'Apple','Kiwi','Mango','Orange','Melon'}"
   ]
  },
  {
   "cell_type": "code",
   "execution_count": null,
   "id": "423e22d0",
   "metadata": {},
   "outputs": [],
   "source": [
    "fruits_1.difference(fruits_2)"
   ]
  },
  {
   "cell_type": "code",
   "execution_count": null,
   "id": "8e8d0596",
   "metadata": {},
   "outputs": [],
   "source": [
    "fruits_2.difference(fruits_1)"
   ]
  },
  {
   "cell_type": "code",
   "execution_count": null,
   "id": "cd626020",
   "metadata": {},
   "outputs": [],
   "source": [
    "Set_fruits"
   ]
  },
  {
   "cell_type": "code",
   "execution_count": null,
   "id": "5502ae9d",
   "metadata": {},
   "outputs": [],
   "source": [
    "Set_fruits.discard('Apple')"
   ]
  },
  {
   "cell_type": "code",
   "execution_count": null,
   "id": "767ba880",
   "metadata": {},
   "outputs": [],
   "source": [
    "Set_fruits"
   ]
  },
  {
   "cell_type": "code",
   "execution_count": null,
   "id": "da13697d",
   "metadata": {},
   "outputs": [],
   "source": [
    "fruits_1={'Apple','Banana','Grapes','Mango','Orange','Banana'}\n",
    "fruits_2={'Apple','Kiwi','Mango','Orange','Melon'}"
   ]
  },
  {
   "cell_type": "code",
   "execution_count": null,
   "id": "ff4d05db",
   "metadata": {},
   "outputs": [],
   "source": [
    "fruits_1.intersection(fruits_2)"
   ]
  },
  {
   "cell_type": "code",
   "execution_count": null,
   "id": "42196dd4",
   "metadata": {},
   "outputs": [],
   "source": [
    "fruits_1"
   ]
  },
  {
   "cell_type": "code",
   "execution_count": null,
   "id": "112041e4",
   "metadata": {},
   "outputs": [],
   "source": [
    "fruits_1.intersection_update(fruits_2)"
   ]
  },
  {
   "cell_type": "code",
   "execution_count": null,
   "id": "33138c43",
   "metadata": {},
   "outputs": [],
   "source": [
    "fruits_1"
   ]
  },
  {
   "cell_type": "code",
   "execution_count": null,
   "id": "c5b77c86",
   "metadata": {},
   "outputs": [],
   "source": [
    "fruits_1={'Apple','Banana','Grapes','Mango','Orange','Banana'}\n",
    "fruits_2={'Apple','Kiwi','Mango','Orange','Melon'}"
   ]
  },
  {
   "cell_type": "code",
   "execution_count": null,
   "id": "53bd7a84",
   "metadata": {},
   "outputs": [],
   "source": [
    "fruits_1.isdisjoint(fruits_2)"
   ]
  },
  {
   "cell_type": "code",
   "execution_count": null,
   "id": "e1b4460e",
   "metadata": {},
   "outputs": [],
   "source": [
    "fruits_1={'Apple','Banana','Grapes','Mango','Orange','Banana'}\n",
    "fruits_2={'Kiwi','Melon'}\n",
    "fruits_1.isdisjoint(fruits_2)"
   ]
  },
  {
   "cell_type": "code",
   "execution_count": null,
   "id": "d2a48f9a",
   "metadata": {},
   "outputs": [],
   "source": [
    "fruits_1={'Apple','Banana','Grapes','Mango','Orange','Banana'}\n",
    "fruits_2={'Apple','Kiwi','Mango','Orange','Melon'}\n",
    "fruits_1.issubset(fruits_2)"
   ]
  },
  {
   "cell_type": "code",
   "execution_count": null,
   "id": "2ff62839",
   "metadata": {},
   "outputs": [],
   "source": [
    "fruits_1={'Apple','Banana','Grapes','Mango','Orange','Banana'}\n",
    "fruits_2={'Apple','Kiwi','Mango','Orange','Melon'}\n",
    "fruits_2.issubset(fruits_2)"
   ]
  },
  {
   "cell_type": "code",
   "execution_count": null,
   "id": "7acb1cfa",
   "metadata": {},
   "outputs": [],
   "source": [
    "fruits_1.issubset(fruits_2)"
   ]
  },
  {
   "cell_type": "code",
   "execution_count": null,
   "id": "f0457a00",
   "metadata": {},
   "outputs": [],
   "source": [
    "fruits_2.issubset(fruits_1)"
   ]
  },
  {
   "cell_type": "code",
   "execution_count": null,
   "id": "b4c7eef0",
   "metadata": {},
   "outputs": [],
   "source": [
    "set_1={1,2,3,4,5,6,7,8,9,10}\n",
    "set_2={1,2,3}\n",
    "\n",
    "set_1.issuperset(set_1)"
   ]
  },
  {
   "cell_type": "code",
   "execution_count": null,
   "id": "083b63a2",
   "metadata": {},
   "outputs": [],
   "source": [
    "set_1={1,2,3,4,5,6,7,8,9,10}\n",
    "set_2={1,2,3}\n",
    "set_1.pop()"
   ]
  },
  {
   "cell_type": "code",
   "execution_count": null,
   "id": "1c972307",
   "metadata": {},
   "outputs": [],
   "source": [
    "set_1.pop(3)"
   ]
  },
  {
   "cell_type": "code",
   "execution_count": null,
   "id": "cb837db7",
   "metadata": {},
   "outputs": [],
   "source": [
    "set_1"
   ]
  },
  {
   "cell_type": "code",
   "execution_count": null,
   "id": "5f9a8c56",
   "metadata": {},
   "outputs": [],
   "source": [
    "set_1.pop()\n",
    "set_1"
   ]
  },
  {
   "cell_type": "code",
   "execution_count": null,
   "id": "9e3da6ac",
   "metadata": {},
   "outputs": [],
   "source": [
    "set_1"
   ]
  },
  {
   "cell_type": "code",
   "execution_count": null,
   "id": "0b16a2e6",
   "metadata": {},
   "outputs": [],
   "source": [
    "# symmetric difference \n",
    "\n",
    "set_1={1,2,3,4,5,6,7,8,9,10}\n",
    "set_2={1,2,3,11,12,14}\n",
    "\n",
    "set_1.symmetric_difference(set_2)"
   ]
  },
  {
   "cell_type": "code",
   "execution_count": null,
   "id": "5677d6b2",
   "metadata": {},
   "outputs": [],
   "source": [
    "set_1={1,2,3,4,5,6,7,8,9,10}\n",
    "set_2={1,2,3,11,12,14}\n",
    "\n",
    "set_1.symmetric_difference_update(set_2)"
   ]
  },
  {
   "cell_type": "code",
   "execution_count": null,
   "id": "737ffc87",
   "metadata": {},
   "outputs": [],
   "source": [
    "set_1"
   ]
  },
  {
   "cell_type": "code",
   "execution_count": null,
   "id": "64a1ef86",
   "metadata": {},
   "outputs": [],
   "source": [
    "set_1={1,2,3,4,5,6,7,8,9,10}\n",
    "set_2={10,20,30}\n",
    "set_1.union(set_2)"
   ]
  },
  {
   "cell_type": "code",
   "execution_count": null,
   "id": "bafdfbc1",
   "metadata": {},
   "outputs": [],
   "source": [
    "set_1={1,2,3,4,5,6,7,8,9,10}\n",
    "set_2={10,20,30}\n",
    "\n",
    "set_1.update(set_2)"
   ]
  },
  {
   "cell_type": "code",
   "execution_count": null,
   "id": "12883c2d",
   "metadata": {},
   "outputs": [],
   "source": [
    "set_1"
   ]
  },
  {
   "cell_type": "markdown",
   "id": "843c3b79",
   "metadata": {},
   "source": [
    "# Dict"
   ]
  },
  {
   "cell_type": "code",
   "execution_count": null,
   "id": "de13e22b",
   "metadata": {},
   "outputs": [],
   "source": [
    "Emp={\"Name\":\"Rekha\",\n",
    "     \"Age\": 26,\n",
    "     \"Income\":300000,\n",
    "     8:\"Address\"}\n",
    "Emp"
   ]
  },
  {
   "cell_type": "code",
   "execution_count": null,
   "id": "3639783c",
   "metadata": {},
   "outputs": [],
   "source": [
    "Emp[\"Name\"]"
   ]
  },
  {
   "cell_type": "code",
   "execution_count": null,
   "id": "3e8e84c6",
   "metadata": {},
   "outputs": [],
   "source": [
    "Emp[8]"
   ]
  },
  {
   "cell_type": "code",
   "execution_count": null,
   "id": "3c16fecb",
   "metadata": {},
   "outputs": [],
   "source": [
    "Emp={\"Name\":\"Rekha\",\n",
    "     \"Age\": 26,\n",
    "     \"Income\":300000}\n",
    "Emp"
   ]
  },
  {
   "cell_type": "code",
   "execution_count": null,
   "id": "c412abd7",
   "metadata": {},
   "outputs": [],
   "source": [
    "Emp[\"Mobile\"]=9568726544"
   ]
  },
  {
   "cell_type": "code",
   "execution_count": null,
   "id": "3d63b1a4",
   "metadata": {},
   "outputs": [],
   "source": [
    "Emp"
   ]
  },
  {
   "cell_type": "code",
   "execution_count": null,
   "id": "98efedf2",
   "metadata": {},
   "outputs": [],
   "source": [
    "Guvi_Emp={\n",
    "    \"EmpID\":[44,55,66,21,7,8,19,27],\n",
    "    \"Name\": [\"Rekha\",\"Vivek\",\"Sam\",\"Maha\",\"Aditiya\",\"Zubair\",\"Mithul\",\"Veda\"],\n",
    "\"Designation\":[\"Developer\",\"Tester\",\"Architect\",\"Team lead\",\"Manager\",\"Jr.Architect\",\"Accountant\",\"HR\"],\n",
    "\"Salary\":[25000,30000,45000,60000,35000,40000,50000,15000]}\n",
    "Guvi_Emp"
   ]
  },
  {
   "cell_type": "code",
   "execution_count": null,
   "id": "27d4dbf0",
   "metadata": {},
   "outputs": [],
   "source": [
    "Guvi_Emp[\"EmpID\"].index(7)"
   ]
  },
  {
   "cell_type": "code",
   "execution_count": null,
   "id": "40a08d0e",
   "metadata": {},
   "outputs": [],
   "source": [
    "Emp=5\n",
    "print(f\"EmpID:{Emp}\")"
   ]
  },
  {
   "cell_type": "code",
   "execution_count": null,
   "id": "734a945a",
   "metadata": {},
   "outputs": [],
   "source": [
    "print(\"EmpID: {Guvi_Emp['EmpID'][4]}\")"
   ]
  },
  {
   "cell_type": "code",
   "execution_count": null,
   "id": "07363ab0",
   "metadata": {},
   "outputs": [],
   "source": [
    "print(f\"EmpID: {Guvi_Emp['EmpID'][4]}\")"
   ]
  },
  {
   "cell_type": "code",
   "execution_count": null,
   "id": "6d989414",
   "metadata": {},
   "outputs": [],
   "source": [
    "Guvi_Emp[\"EmpID\"][4]"
   ]
  },
  {
   "cell_type": "code",
   "execution_count": null,
   "id": "7fede7c6",
   "metadata": {},
   "outputs": [],
   "source": [
    "print(f\"EmpID:{Guvi_Emp[\"EmpID\"][4]}\")\n",
    "print(f\"Emp_Name:{Guvi_Emp[\"Name\"][4]}\")\n",
    "print(f\"Emp_Designation:{Guvi_Emp[\"Designation\"][4]}\")\n",
    "print(f\"Emp_Salary:{Guvi_Emp[\"Salary\"][4]}\")"
   ]
  },
  {
   "cell_type": "code",
   "execution_count": null,
   "id": "97abc83a",
   "metadata": {},
   "outputs": [],
   "source": [
    "Emp_ID=(input(\"Enter the Emp_ID: \"))\n",
    "Emp_ID\n",
    "print(type(Emp_ID))"
   ]
  },
  {
   "cell_type": "code",
   "execution_count": null,
   "id": "bb764c17",
   "metadata": {},
   "outputs": [],
   "source": [
    "Emp_ID=(input(\"Enter the Emp_ID: \"))\n",
    "Emp_ID"
   ]
  },
  {
   "cell_type": "code",
   "execution_count": null,
   "id": "fa3c1568",
   "metadata": {},
   "outputs": [],
   "source": [
    "Emp_ID=int(input(\"Enter the Emp_ID: \"))\n",
    "Emp_ID\n",
    "print(type(Emp_ID))"
   ]
  },
  {
   "cell_type": "code",
   "execution_count": null,
   "id": "8b599f5a",
   "metadata": {},
   "outputs": [],
   "source": [
    "User_Emp_ID=int(input(\"Enter the Emp_ID:\"))\n"
   ]
  },
  {
   "cell_type": "code",
   "execution_count": null,
   "id": "9d5cc740",
   "metadata": {},
   "outputs": [],
   "source": [
    "User_Emp_ID"
   ]
  },
  {
   "cell_type": "code",
   "execution_count": null,
   "id": "57e9b6ca",
   "metadata": {},
   "outputs": [],
   "source": [
    "Position=Guvi_Emp[\"EmpID\"].index(User_Emp_ID)"
   ]
  },
  {
   "cell_type": "code",
   "execution_count": null,
   "id": "5c806da7",
   "metadata": {},
   "outputs": [],
   "source": [
    "Position"
   ]
  },
  {
   "cell_type": "code",
   "execution_count": null,
   "id": "4a702fc2",
   "metadata": {},
   "outputs": [],
   "source": [
    "print(f\"EmpID:{Guvi_Emp[\"EmpID\"][Position]}\")\n",
    "print(f\"Emp_Name:{Guvi_Emp[\"Name\"][Position]}\")\n",
    "print(f\"Emp_Designation:{Guvi_Emp[\"Designation\"][Position]}\")\n",
    "print(f\"Emp_Salary:{Guvi_Emp[\"Salary\"][Position]}\")"
   ]
  },
  {
   "cell_type": "code",
   "execution_count": null,
   "id": "d10decfd",
   "metadata": {},
   "outputs": [],
   "source": [
    "dir(dict)"
   ]
  },
  {
   "cell_type": "code",
   "execution_count": null,
   "id": "48d86e2a",
   "metadata": {},
   "outputs": [],
   "source": [
    "Biodata={\"Name\":\"Rekha\",\"Age\":26}\n",
    "Biodata.clear()\n",
    "Biodata"
   ]
  },
  {
   "cell_type": "code",
   "execution_count": null,
   "id": "c591edde",
   "metadata": {},
   "outputs": [],
   "source": [
    "Guvi_Emp={\n",
    "    \"EmpID\":[44,55,66,21,7,8,19,27],\n",
    "    \"Name\": [\"Rekha\",\"Vivek\",\"Sam\",\"Maha\",\"Aditiya\",\"Zubair\",\"Mithul\",\"Veda\"],\n",
    "\"Designation\":[\"Developer\",\"Tester\",\"Architect\",\"Team lead\",\"Manager\",\"Jr.Architect\",\"Accountant\",\"HR\"],\n",
    "\"Salary\":[25000,30000,45000,60000,35000,40000,50000,15000]}\n",
    "Guvi_Emp"
   ]
  },
  {
   "cell_type": "code",
   "execution_count": null,
   "id": "e5b2dc13",
   "metadata": {},
   "outputs": [],
   "source": [
    "Keys={\"Name\",\"Age\",\"Salary\"}\n",
    "VALUES={\"Rekha\",26,300000}\n",
    "Emp=dict.fromkeys(Keys,VALUES)\n",
    "Emp"
   ]
  },
  {
   "cell_type": "code",
   "execution_count": null,
   "id": "df4a0383",
   "metadata": {},
   "outputs": [],
   "source": [
    "Keys={\"Name\",\"Age\",\"Salary\"}\n",
    "Values={\"Rekha\",26,300000}\n",
    "Emp=dict.fromkeys(Keys,Values)\n",
    "Emp"
   ]
  },
  {
   "cell_type": "code",
   "execution_count": null,
   "id": "d05840c7",
   "metadata": {},
   "outputs": [],
   "source": [
    "Keys={\"Name\",\"Age\",\"Salary\"}\n",
    "Values={None}\n",
    "Emp=dict.fromkeys(Keys,Values)\n",
    "Emp"
   ]
  },
  {
   "cell_type": "code",
   "execution_count": null,
   "id": "514baa98",
   "metadata": {},
   "outputs": [],
   "source": [
    "Emp={\"Name\":\"Rekha\",\n",
    "     \"Age\": 26,\n",
    "     \"Income\":300000}\n",
    "Emp.items()"
   ]
  },
  {
   "cell_type": "code",
   "execution_count": null,
   "id": "59ea2c51",
   "metadata": {},
   "outputs": [],
   "source": [
    "Emp.keys()"
   ]
  },
  {
   "cell_type": "code",
   "execution_count": null,
   "id": "47a55e7c",
   "metadata": {},
   "outputs": [],
   "source": [
    "Emp.values()"
   ]
  },
  {
   "cell_type": "code",
   "execution_count": null,
   "id": "135e0401",
   "metadata": {},
   "outputs": [],
   "source": [
    "Emp.get(\"Name\")"
   ]
  },
  {
   "cell_type": "code",
   "execution_count": null,
   "id": "c8e45787",
   "metadata": {},
   "outputs": [],
   "source": [
    "Emp.pop(\"Age\")"
   ]
  },
  {
   "cell_type": "code",
   "execution_count": null,
   "id": "b575159c",
   "metadata": {},
   "outputs": [],
   "source": [
    "Emp"
   ]
  },
  {
   "cell_type": "code",
   "execution_count": null,
   "id": "c14caf65",
   "metadata": {},
   "outputs": [],
   "source": [
    "Emp.popitem()"
   ]
  },
  {
   "cell_type": "code",
   "execution_count": null,
   "id": "35f90d9e",
   "metadata": {},
   "outputs": [],
   "source": [
    "Emp"
   ]
  },
  {
   "cell_type": "code",
   "execution_count": null,
   "id": "67f11f09",
   "metadata": {},
   "outputs": [],
   "source": [
    "Emp.update({\"Age\":27})\n",
    "Emp"
   ]
  },
  {
   "cell_type": "code",
   "execution_count": null,
   "id": "9f1ff1e3",
   "metadata": {},
   "outputs": [],
   "source": [
    "Emp={\"Name\":\"Rekha\",\n",
    "     \"Age\": 26,\n",
    "     \"Income\":300000}\n",
    "Emp.setdefault('Mobile',9535465466)\n",
    "Emp"
   ]
  },
  {
   "cell_type": "markdown",
   "id": "e5f3ae6f",
   "metadata": {},
   "source": [
    "## Conditional statement "
   ]
  },
  {
   "cell_type": "code",
   "execution_count": null,
   "id": "2c2063e1",
   "metadata": {},
   "outputs": [],
   "source": [
    "# Simple condition\n",
    "\n",
    "Age=int(input(\"Enter your Age:\"))\n",
    "\n",
    "if Age>18:\n",
    "    print('Allow')"
   ]
  },
  {
   "cell_type": "code",
   "execution_count": null,
   "id": "bf5028a3",
   "metadata": {},
   "outputs": [],
   "source": [
    "Age=int(input(\"Enter your Age:\"))\n",
    "\n",
    "if Age>18:\n",
    "    print('Allow')\n",
    "else:\n",
    "    print('Not Allow')"
   ]
  },
  {
   "cell_type": "code",
   "execution_count": null,
   "id": "7490d033",
   "metadata": {},
   "outputs": [],
   "source": [
    "Age=int(input(\"Enter your Age:\"))\n",
    "\n",
    "if Age>18 and Age<60:\n",
    "    print('Allow')\n",
    "else:\n",
    "    print('Not Allow')"
   ]
  },
  {
   "cell_type": "code",
   "execution_count": null,
   "id": "ff2f4aec",
   "metadata": {},
   "outputs": [],
   "source": [
    "Age=int(input(\"Enter your Age:\"))\n",
    "\n",
    "if Age>18 and Age<60:\n",
    "    print('Allow')\n",
    "else:\n",
    "    print('Not Allow')"
   ]
  },
  {
   "cell_type": "code",
   "execution_count": null,
   "id": "5ce83d43",
   "metadata": {},
   "outputs": [],
   "source": [
    "Age=int(input(\"Enter your Age:\"))\n",
    "\n",
    "if Age>18 and Age<60:\n",
    "    print('Allow')\n",
    "else:\n",
    "    print('Not Allow')\n",
    "    "
   ]
  },
  {
   "cell_type": "code",
   "execution_count": null,
   "id": "b8ee9663",
   "metadata": {},
   "outputs": [],
   "source": [
    "Age=int(input(\"Enter your Age:\"))\n",
    "\n",
    "if Age>=18 and Age<=60:\n",
    "    print('Allow')\n",
    "else:\n",
    "    print('Not Allow')"
   ]
  },
  {
   "cell_type": "code",
   "execution_count": null,
   "id": "ebf4e0eb",
   "metadata": {},
   "outputs": [],
   "source": [
    "Mark=int(input(\"Enter your Mark:\"))\n",
    "if Mark>=35:\n",
    "    print('Pass')\n",
    "else:\n",
    "    print('Fail')"
   ]
  },
  {
   "cell_type": "code",
   "execution_count": null,
   "id": "5dff4095",
   "metadata": {},
   "outputs": [],
   "source": [
    "# 100-91 Doctor,90-81 Engineer,80-71 Arts,70-41 Diploma,40-0 Fail\n",
    "# Rekha your Mark is 75 and you are Eligible for Diploma\n",
    "\n",
    "Name=input('Enter your Name:')\n",
    "Mark=int(input('Enter your Mark:'))\n",
    "if Mark>=91 and Mark<=100:\n",
    "    print(f\"{Name}Your Mark is {Mark} and you are Eligible for Doctor\")\n",
    "elif Mark>=81 and Mark<=90:\n",
    "   print(f\"{Name}Your Mark is {Mark} and you are Eligible for Engineer\")\n",
    "elif Mark>=71 and Mark<=80:\n",
    "    print(f\"{Name}Your Mark is {Mark} and you are Eligible for Arts\")\n",
    "elif Mark>=41 and Mark<=70:\n",
    "    print(f\"{Name}Your Mark is {Mark} and you are Eligible for Diploma \")\n",
    "else: \n",
    "    print(f'{Name} Your Mark {Mark} and you are Fail')"
   ]
  },
  {
   "cell_type": "code",
   "execution_count": null,
   "id": "9f0e0a8f",
   "metadata": {},
   "outputs": [],
   "source": [
    "# 100-91 Doctor,90-81 Engineer,80-71 Arts,70-41 Diploma,40-0 Fail\n",
    "#   Neet >90 Doctor eligible\n",
    "\n",
    "Name=input('Enter your Name:')\n",
    "Mark=int(input('Enter your Mark:'))\n",
    "\n",
    "if Mark>=91 and Mark<=100:\n",
    "    Neet=int(input('Enter your Neet score:'))\n",
    "    if Neet>=90:\n",
    "        print(f\"{Name}Your Mark is {Mark} and your Neet score{Neet}Since are Eligible for Doctor\")\n",
    "    else:\n",
    "        print(f'{Name} Your Mark is {Mark} and your Neet score{Neet}Since are Eligible for Doctor you can try for other courses')\n",
    "\n",
    "\n",
    "elif Mark>=18 and Mark<=90:\n",
    "    print(f'{Name} Your Mark is {Mark} and you are Eligible for Engineer')\n",
    "\n",
    "elif Mark>=71 and Mark<=80:\n",
    "    print(f'{Name} Your Mark is {Mark} and you are Eligible for Arts')\n",
    "\n",
    "elif Mark>=41 and Mark<=70:\n",
    "    print(f'{Name} Your Mark is {Mark} and you are Eligible for Diploma')\n",
    "\n",
    "else:\n",
    "    print(f'{Name} Your Mark {Mark} and you are Fail')\n",
    "\n"
   ]
  },
  {
   "cell_type": "code",
   "execution_count": null,
   "id": "08faa16b",
   "metadata": {},
   "outputs": [],
   "source": [
    "Name=input('Enter your Name:')\n",
    "Mark=int(input('Enter your Mark:'))\n",
    "Neet=int(input('Enter your Neet score'))\n",
    "\n",
    "if Neet>=90:\n",
    "        print(f\"{Name}Your Mark is {Mark} and your Neet score{Neet}Since you are Eligible for Doctor\")\n",
    "else:\n",
    "        print(f'{Name} Your Mark is {Mark} and your Neet score{Neet}Since you are not Eligible for Doctor you can try for other courses')"
   ]
  },
  {
   "cell_type": "markdown",
   "id": "383a7b74",
   "metadata": {},
   "source": [
    "# LOOPS"
   ]
  },
  {
   "cell_type": "code",
   "execution_count": null,
   "id": "d63cfdac",
   "metadata": {},
   "outputs": [],
   "source": [
    "Name=['Raja','Ravi','Rani','Ramu']\n",
    "\n",
    "for i in Name:\n",
    "    print(i)"
   ]
  },
  {
   "cell_type": "code",
   "execution_count": null,
   "id": "93dce818",
   "metadata": {},
   "outputs": [],
   "source": [
    "for A in Name:\n",
    "    print(A)"
   ]
  },
  {
   "cell_type": "code",
   "execution_count": null,
   "id": "19236ec9",
   "metadata": {},
   "outputs": [],
   "source": [
    "for A in Name:\n",
    "    print(Name)"
   ]
  },
  {
   "cell_type": "code",
   "execution_count": null,
   "id": "094595a1",
   "metadata": {},
   "outputs": [],
   "source": [
    "Name='Rekha'\n",
    "for i in Name:\n",
    "    print(Name)"
   ]
  },
  {
   "cell_type": "code",
   "execution_count": null,
   "id": "3e07fd9d",
   "metadata": {},
   "outputs": [],
   "source": [
    "for i in range(0,10):\n",
    "    print(i)"
   ]
  },
  {
   "cell_type": "code",
   "execution_count": null,
   "id": "5e3ec851",
   "metadata": {},
   "outputs": [],
   "source": [
    "A=7\n",
    "print(6/2)\n",
    "print(6//2)\n",
    "print(6%2)"
   ]
  },
  {
   "cell_type": "code",
   "execution_count": null,
   "id": "8f491f58",
   "metadata": {},
   "outputs": [],
   "source": [
    "if A%2==0:\n",
    "  print('Even')\n",
    "else:\n",
    "  print('Odd')"
   ]
  },
  {
   "cell_type": "code",
   "execution_count": null,
   "id": "84c016d2",
   "metadata": {},
   "outputs": [],
   "source": [
    "Nums=[10,20,39,67,78,44,25,22,68]\n",
    "\n",
    "for n in Nums:\n",
    "\n",
    " if n%2==0:\n",
    "    print(f'{n} is Even')\n",
    "else:\n",
    "    print(f'{n} is Odd')\n",
    "    "
   ]
  },
  {
   "cell_type": "code",
   "execution_count": null,
   "id": "e5b81871",
   "metadata": {},
   "outputs": [],
   "source": [
    "Num1=input()\n",
    "Num2=input()\n",
    "print(Num1)\n",
    "print(Num2)"
   ]
  },
  {
   "cell_type": "code",
   "execution_count": null,
   "id": "5d66c852",
   "metadata": {},
   "outputs": [],
   "source": [
    "Nums=[10,20,39,67,78,44,25,22,68]\n",
    "\n",
    "for n in Nums:\n",
    "\n",
    " if n%2==0:\n",
    "    print(f'{n} is Even')\n",
    "else:\n",
    "    print(f'{n} is Odd')"
   ]
  },
  {
   "cell_type": "code",
   "execution_count": null,
   "id": "9094828a",
   "metadata": {},
   "outputs": [],
   "source": [
    "Nums=[10,20,39,67,78,44,25,22,15]\n",
    "odd=[]\n",
    "even=[]\n",
    "\n",
    "\n",
    "for i in Nums:\n",
    "\n",
    " if i%2==0:\n",
    "    even.append(i)\n",
    "else:\n",
    "    odd.append(i)\n",
    "\n",
    "print(even)\n",
    "print(odd)"
   ]
  },
  {
   "cell_type": "code",
   "execution_count": null,
   "id": "ea242b40",
   "metadata": {},
   "outputs": [],
   "source": [
    "print(*even)\n",
    "print(*odd)"
   ]
  },
  {
   "cell_type": "code",
   "execution_count": null,
   "id": "8238c9b3",
   "metadata": {},
   "outputs": [],
   "source": [
    "Animals=['Lion','Tiger','Cat','Monkey','Deer']\n",
    "print(' '.join(Animals))"
   ]
  },
  {
   "cell_type": "code",
   "execution_count": null,
   "id": "8750c0db",
   "metadata": {},
   "outputs": [],
   "source": [
    "Animals=['Lion','Tiger','Cat','Monkey','Deer']\n",
    "for o in Animals:\n",
    "    print('$'.join(Animals))"
   ]
  },
  {
   "cell_type": "code",
   "execution_count": null,
   "id": "50ab7602",
   "metadata": {},
   "outputs": [],
   "source": [
    "Nums=[10,20,39,67,78,44,25,22,68,23,89,172,437,209,122,65,932,104,1,2,3,4,5,6,7,8,9,10]\n",
    "\n",
    "for n in Nums:\n",
    " if n%3==0:\n",
    "    print(f'{n} is Odd')\n",
    "if n%5==0:\n",
    "   print(f'{n} is Odd')\n",
    "if n%7==0:\n",
    "  print(f'{n} is Odd')   \n",
    "else:\n",
    "  print(f'{n} is Even')"
   ]
  },
  {
   "cell_type": "code",
   "execution_count": null,
   "id": "3e269dca",
   "metadata": {},
   "outputs": [],
   "source": [
    "Nums=[10,20,39,67,78,44,25,22,68,23,89,172,437,209,122,65,932,104,1,2,3,4,5,6,7,8,9,10]\n",
    "\n",
    "\n",
    "\n",
    "for i in Nums:\n",
    "\n",
    " if i%3==0:\n",
    "    odd.append(i)\n",
    " if i%5==0:\n",
    "   odd.append(i)\n",
    " if i%7==0:\n",
    "    odd.append(i)\n",
    "else:\n",
    "    even.append(i)\n",
    "    \n",
    "print(i)\n",
    "print(i)\n",
    "print(i)"
   ]
  },
  {
   "cell_type": "code",
   "execution_count": null,
   "id": "0e654ced",
   "metadata": {},
   "outputs": [],
   "source": [
    "Animals=['Lion','Tiger','Cat','Monkey','Deer']\n",
    "\n",
    "print('@'.join(Animals))"
   ]
  },
  {
   "cell_type": "code",
   "execution_count": null,
   "id": "a2984fe2",
   "metadata": {},
   "outputs": [],
   "source": [
    "Animals=['Lion','Tiger','Cat','Monkey','Deer']\n"
   ]
  },
  {
   "cell_type": "code",
   "execution_count": null,
   "id": "e3aefa74",
   "metadata": {},
   "outputs": [],
   "source": [
    "for i in range(1,11): \n",
    "      print(i)"
   ]
  },
  {
   "cell_type": "code",
   "execution_count": null,
   "id": "e3063d82",
   "metadata": {},
   "outputs": [],
   "source": [
    "for i in range(1,11,): \n",
    "      print(i)"
   ]
  },
  {
   "cell_type": "code",
   "execution_count": null,
   "id": "df3d0d2f",
   "metadata": {},
   "outputs": [],
   "source": [
    "for i in range(1,11,1): \n",
    "      print(i)"
   ]
  },
  {
   "cell_type": "code",
   "execution_count": null,
   "id": "9b55c900",
   "metadata": {},
   "outputs": [],
   "source": [
    "for i in range(11,0,-1): \n",
    "      print(i)"
   ]
  },
  {
   "cell_type": "code",
   "execution_count": null,
   "id": "5c047a73",
   "metadata": {},
   "outputs": [],
   "source": [
    "n=int(input('Enter number'))\n",
    "for i in range(10,n,-1):\n",
    "    print(i)\n"
   ]
  },
  {
   "cell_type": "code",
   "execution_count": null,
   "id": "fe142164",
   "metadata": {},
   "outputs": [],
   "source": [
    "for i in range(5,11):\n",
    "    print(i)\n",
    "    "
   ]
  },
  {
   "cell_type": "code",
   "execution_count": null,
   "id": "ad5354d0",
   "metadata": {},
   "outputs": [],
   "source": [
    "for i in range(5,15,2):\n",
    "    print(i)"
   ]
  },
  {
   "cell_type": "code",
   "execution_count": null,
   "id": "ea8dfc70",
   "metadata": {},
   "outputs": [],
   "source": [
    "House=[10,20,0,8,89,0,78,13,14,0,7]\n",
    "\n",
    "for i in House:\n",
    "     if i==0:\n",
    "       print('House Address',House.index(i))"
   ]
  },
  {
   "cell_type": "code",
   "execution_count": null,
   "id": "9751dc9f",
   "metadata": {},
   "outputs": [],
   "source": [
    "House=[10,20,0,8,89,0,78,13,14,0,7]\n",
    "\n",
    "for i in range(len(House)):\n",
    "    print(i,House[i])"
   ]
  },
  {
   "cell_type": "code",
   "execution_count": null,
   "id": "25ee464e",
   "metadata": {},
   "outputs": [],
   "source": [
    "House=[10,20,0,8,89,0,78,13,14,0,7]\n",
    "\n",
    "for i in range(len(House)):\n",
    "    if House[i]==0:\n",
    "      print(i,House[i])"
   ]
  },
  {
   "cell_type": "code",
   "execution_count": null,
   "id": "27100282",
   "metadata": {},
   "outputs": [],
   "source": [
    "House=[10,20,0,8,89,0,78,13,14,0,7]\n",
    "\n",
    "for i in range(len(House)):\n",
    "    if House[i]==0:\n",
    "      print('House address',i,House[i])"
   ]
  },
  {
   "cell_type": "code",
   "execution_count": null,
   "id": "e3c10224",
   "metadata": {},
   "outputs": [],
   "source": [
    "House=[10,20,0,8,89,0,78,13,14,0,7]\n",
    "\n",
    "for i,v in enumerate(House):\n",
    "      print('index:',i,'value:',v)"
   ]
  },
  {
   "cell_type": "code",
   "execution_count": null,
   "id": "09dc9cdc",
   "metadata": {},
   "outputs": [],
   "source": [
    "Guvi_Emp={\n",
    "    'EmpID': [44,55,67,21,7,8,19,27],\n",
    "    'Name':['Rajesh','Kumar','Kamal','Saran','Karthick','Iswarya','Divya','David'],\n",
    "    'Designation':['Developer','Tester','TeamLead','Manager','Jr.Developer','Accontant','HR','Admin'],\n",
    "    'Salary': [25000,30000,45000,60000,20000,22000,15000,28000],\n",
    "\n",
    "}\n",
    "Guvi_Emp\n"
   ]
  },
  {
   "cell_type": "code",
   "execution_count": null,
   "id": "21db4c50",
   "metadata": {},
   "outputs": [],
   "source": [
    "for emp_id,name,Desg,Sal in zip(Guvi_Emp['EmpID'],Guvi_Emp['Name'],Guvi_Emp['Designation'],Guvi_Emp['Salary']):\n",
    "    print(f'Name: {name}')\n",
    "    print(f'EmpID: {emp_id}')\n",
    "    print(f'Designation: {Desg}')\n",
    "    print(f'Salary: {Sal}')\n",
    "    print('-'*20)\n"
   ]
  },
  {
   "cell_type": "code",
   "execution_count": null,
   "id": "b9762a53",
   "metadata": {},
   "outputs": [],
   "source": [
    "Guvi_Emp={\n",
    "    'EmpID': [44,55,67,21,7,8,19,27],\n",
    "    'Name':['Rajesh','Kumar','Kamal','Saran','Karthick'],\n",
    "    'Designation':['Developer','Tester','TeamLead','Manager','Jr.Developer','Accontant','HR','Admin'],\n",
    "    'Salary': [25000,30000,45000,60000,20000,22000,15000,28000],\n",
    "\n",
    "}\n",
    "Guvi_Emp\n"
   ]
  },
  {
   "cell_type": "code",
   "execution_count": null,
   "id": "410521d0",
   "metadata": {},
   "outputs": [],
   "source": [
    "for emp_id,name,Desg,Sal in zip(Guvi_Emp['EmpID'],Guvi_Emp['Name'],Guvi_Emp['Designation'],Guvi_Emp['Salary']):\n",
    "    print(f'Name: {name}')\n",
    "    print(f'EmpID: {emp_id}')\n",
    "    print(f'Designation: {Desg}')\n",
    "    print(f'Salary: {Sal}')\n",
    "    print('-'*20)"
   ]
  },
  {
   "cell_type": "code",
   "execution_count": null,
   "id": "379bd1da",
   "metadata": {},
   "outputs": [],
   "source": [
    "Guvi_Emp={\n",
    "    'EmpID': [44,55,67,21,7,8,19,27],\n",
    "    'Name':['Rajesh','Kumar','Kamal','Saran','Karthick'],\n",
    "    'Designation':['Developer','Tester','TeamLead','Manager','Jr.Developer','Accontant','HR','Admin'],\n",
    "    'Salary': [25000,45000,60000,20000,22000,15000,28000],\n",
    "\n",
    "}\n",
    "Guvi_Emp\n",
    "for emp_id,name,Desg,Sal in zip(Guvi_Emp['EmpID'],Guvi_Emp['Name'],Guvi_Emp['Designation'],Guvi_Emp['Salary']):\n",
    "    print(f'Name: {name}')\n",
    "    print(f'EmpID: {emp_id}')\n",
    "    print(f'Designation: {Desg}')\n",
    "    print(f'Salary: {Sal}')\n",
    "    print('-'*20)"
   ]
  },
  {
   "cell_type": "code",
   "execution_count": null,
   "id": "f83c4bf0",
   "metadata": {},
   "outputs": [],
   "source": [
    "Name=['Rekha','vivek','rithu','sam']\n",
    "for i in Name[::-1]:\n",
    "    print(i,end=' ')"
   ]
  },
  {
   "cell_type": "code",
   "execution_count": null,
   "id": "0a16c16c",
   "metadata": {},
   "outputs": [],
   "source": [
    "Name=['Rekha','vivek','rithu','sam']\n",
    "Name=Name.reverse\n",
    "Name"
   ]
  },
  {
   "cell_type": "code",
   "execution_count": null,
   "id": "04c6835f",
   "metadata": {},
   "outputs": [],
   "source": [
    "House=[10,20,0,8,89,0,78,13,14,0,7]\n",
    "\n",
    "for i in range(len(House)-1,-1,-1):\n",
    "\n",
    "       print(f'index: {i}')\n",
    "       print(f'value:----{House[i]}')\n",
    "       "
   ]
  },
  {
   "cell_type": "code",
   "execution_count": null,
   "id": "f675cca5",
   "metadata": {},
   "outputs": [],
   "source": [
    "A=[1,2,3,4,5,6]\n",
    "B=[10,1,3,5]\n",
    "  \n",
    "for i in A:\n",
    " for j in B:\n",
    "  if i==j:\n",
    "    print(i)\n"
   ]
  },
  {
   "cell_type": "code",
   "execution_count": null,
   "id": "f00afd20",
   "metadata": {},
   "outputs": [],
   "source": [
    "A=[1,2,3,4,5,6]\n",
    "B=[10,1,3,5]\n",
    "  \n",
    "for i in A:\n",
    " for j in B:\n",
    "  if i!=j:\n",
    "    print(i,j)\n",
    " print('---'*20)"
   ]
  },
  {
   "cell_type": "code",
   "execution_count": null,
   "id": "7912bf85",
   "metadata": {},
   "outputs": [],
   "source": [
    "L=[10,20,0,56,89,0,8]\n",
    "\n",
    "for i in L:\n",
    "  if i==0:\n",
    "       print(L)"
   ]
  },
  {
   "cell_type": "code",
   "execution_count": null,
   "id": "52fb8997",
   "metadata": {},
   "outputs": [],
   "source": [
    "L=[10,20,0,56,89,0,8]\n",
    "\n",
    "for i in L:\n",
    "  if i==0:\n",
    "       pass\n",
    "  else:\n",
    "       print(i)"
   ]
  },
  {
   "cell_type": "code",
   "execution_count": null,
   "id": "c6389e7c",
   "metadata": {},
   "outputs": [],
   "source": [
    "L=[10,20,0,56,89,0,8]\n",
    "\n",
    "for i in L:\n",
    "  if i==0:\n",
    "       pass\n",
    "  else:\n",
    "       print(i)"
   ]
  },
  {
   "cell_type": "code",
   "execution_count": null,
   "id": "29b93cc4",
   "metadata": {},
   "outputs": [],
   "source": [
    "L=[10,20,0,56,89,0,8]\n",
    "\n",
    "for i in L:\n",
    "  if i==0:\n",
    "       break\n",
    "  else:\n",
    "       print(i)"
   ]
  },
  {
   "cell_type": "code",
   "execution_count": null,
   "id": "02039d14",
   "metadata": {},
   "outputs": [],
   "source": [
    "L=[10,20,0,56,89,0,8]\n",
    "\n",
    "for i in L:\n",
    "  if i==0:\n",
    "       continue\n",
    "  else:\n",
    "       print(i)"
   ]
  },
  {
   "cell_type": "code",
   "execution_count": null,
   "id": "601d5c32",
   "metadata": {},
   "outputs": [],
   "source": [
    "L=[10,20,0,56,89,0,8]\n",
    "\n",
    "for i in L:\n",
    "  if i==0:\n",
    "       continue\n",
    "  else:\n",
    "       print(L)"
   ]
  },
  {
   "cell_type": "code",
   "execution_count": null,
   "id": "ed7816e5",
   "metadata": {},
   "outputs": [],
   "source": [
    "L=[10,20,0,56,89,0,8]\n",
    "\n",
    "for i in L:\n",
    "  if i==0:\n",
    "       print('zero found')\n",
    "       continue\n",
    "  else:\n",
    "       print(i)"
   ]
  },
  {
   "cell_type": "code",
   "execution_count": null,
   "id": "19c1d931",
   "metadata": {},
   "outputs": [],
   "source": [
    "L=[10,20,0,56,89,0,8]\n",
    "\n",
    "for i in L:\n",
    "  if i==0:\n",
    "    continue\n",
    "    print('zero found')\n",
    "  else:\n",
    "       print(i)"
   ]
  },
  {
   "cell_type": "code",
   "execution_count": null,
   "id": "1883e6c9",
   "metadata": {},
   "outputs": [],
   "source": [
    "L=[10,20,0,56,89,0,8]\n",
    "\n",
    "for i in L:\n",
    "  if i==0:\n",
    "       print('zero found')\n",
    "       pass\n",
    "  else:\n",
    "       print(i)"
   ]
  },
  {
   "cell_type": "code",
   "execution_count": null,
   "id": "79c5bda7",
   "metadata": {},
   "outputs": [],
   "source": [
    "L=[10,20,0,56,89,0,8]\n",
    "\n",
    "for i in L:\n",
    "  if i==0:\n",
    "       pass\n",
    "       print('zero found')\n",
    "  else:\n",
    "       print(i)"
   ]
  },
  {
   "cell_type": "markdown",
   "id": "81443b44",
   "metadata": {},
   "source": [
    "# Loop with ATM transaction example"
   ]
  },
  {
   "cell_type": "code",
   "execution_count": null,
   "id": "210a96ac",
   "metadata": {},
   "outputs": [],
   "source": [
    "Pin=int(input('enter your pin'))\n",
    "\n",
    "if Pin==4567:\n",
    "    print('Pin matched')\n",
    "    Amount=int(input('enter amount'))\n",
    "    Balance=10000\n",
    "    if Amount<=Balance:\n",
    "        print('Transaction successfully')\n",
    "    else:\n",
    "        print('Insufficient Balance')\n",
    "else:\n",
    "    print('Pin not matched')"
   ]
  },
  {
   "cell_type": "code",
   "execution_count": null,
   "id": "1eee38f2",
   "metadata": {},
   "outputs": [],
   "source": [
    "Pin=int(input('enter your pin'))\n",
    "\n",
    "if Pin==4567:\n",
    "    print('Pin matched')\n",
    "    Amount=int(input('enter amount'))\n",
    "    Balance=10000\n",
    "    if Amount<=Balance:\n",
    "        print('Transaction successfully')\n",
    "    else:\n",
    "        continue\n",
    "else:\n",
    "    print('Pin not matched')"
   ]
  },
  {
   "cell_type": "code",
   "execution_count": null,
   "id": "6fe97d16",
   "metadata": {},
   "outputs": [],
   "source": [
    "Pin=int(input('enter your pin'))\n",
    "\n",
    "if Pin==4567:\n",
    "    print('Pin matched')\n",
    "    Amount=int(input('enter amount'))\n",
    "    Balance=10000\n",
    "    if Amount<=Balance:\n",
    "        print('Transaction successfully')\n",
    "    else:\n",
    "        pass\n",
    "else:\n",
    "    print('Pin not matched')    "
   ]
  },
  {
   "cell_type": "markdown",
   "id": "d0d4c6d6",
   "metadata": {},
   "source": [
    "# While loop\n"
   ]
  },
  {
   "cell_type": "code",
   "execution_count": null,
   "id": "88888a07",
   "metadata": {},
   "outputs": [],
   "source": [
    "for i in range(1,11):\n",
    "     print(i)\n"
   ]
  },
  {
   "cell_type": "code",
   "execution_count": null,
   "id": "e6db6047",
   "metadata": {},
   "outputs": [],
   "source": [
    "n=1\n",
    "while n<=10:\n",
    "    print(n)"
   ]
  },
  {
   "cell_type": "code",
   "execution_count": null,
   "id": "e22b9117",
   "metadata": {},
   "outputs": [],
   "source": [
    "n=1\n",
    "while n<=10:\n",
    "    print(n)\n",
    "    n=n+1"
   ]
  },
  {
   "cell_type": "code",
   "execution_count": null,
   "id": "c956b8a3",
   "metadata": {},
   "outputs": [],
   "source": [
    "items = [\"apple\", \"banana\", \"apple\", \"orange\", \"banana\"]\n"
   ]
  }
 ],
 "metadata": {
  "kernelspec": {
   "display_name": "Python 3",
   "language": "python",
   "name": "python3"
  },
  "language_info": {
   "codemirror_mode": {
    "name": "ipython",
    "version": 3
   },
   "file_extension": ".py",
   "mimetype": "text/x-python",
   "name": "python",
   "nbconvert_exporter": "python",
   "pygments_lexer": "ipython3",
   "version": "3.12.10"
  }
 },
 "nbformat": 4,
 "nbformat_minor": 5
}
