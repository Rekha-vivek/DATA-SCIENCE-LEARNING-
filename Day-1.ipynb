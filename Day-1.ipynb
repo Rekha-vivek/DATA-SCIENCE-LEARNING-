{
 "cells": [
  {
   "cell_type": "markdown",
   "id": "207225de",
   "metadata": {},
   "source": [
    "## My first class"
   ]
  },
  {
   "cell_type": "code",
   "execution_count": null,
   "id": "612bbe9e",
   "metadata": {},
   "outputs": [],
   "source": []
  },
  {
   "cell_type": "markdown",
   "id": "7fe1834c",
   "metadata": {},
   "source": [
    "# variables"
   ]
  },
  {
   "cell_type": "markdown",
   "id": "96d8961e",
   "metadata": {},
   "source": [
    "# My first class"
   ]
  },
  {
   "cell_type": "markdown",
   "id": "cbd7f4b7",
   "metadata": {},
   "source": [
    "### My first class"
   ]
  },
  {
   "cell_type": "code",
   "execution_count": 3,
   "id": "154c8e46",
   "metadata": {},
   "outputs": [
    {
     "name": "stdout",
     "output_type": "stream",
     "text": [
      "Hello Guvi\n"
     ]
    }
   ],
   "source": [
    "print(\"Hello Guvi\")"
   ]
  }
 ],
 "metadata": {
  "kernelspec": {
   "display_name": "Python 3",
   "language": "python",
   "name": "python3"
  },
  "language_info": {
   "codemirror_mode": {
    "name": "ipython",
    "version": 3
   },
   "file_extension": ".py",
   "mimetype": "text/x-python",
   "name": "python",
   "nbconvert_exporter": "python",
   "pygments_lexer": "ipython3",
   "version": "3.12.10"
  }
 },
 "nbformat": 4,
 "nbformat_minor": 5
}
