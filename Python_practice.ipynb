{
 "cells": [
  {
   "cell_type": "markdown",
   "id": "5ec156d6",
   "metadata": {},
   "source": [
    "# List"
   ]
  },
  {
   "cell_type": "code",
   "execution_count": 1,
   "id": "df7c1e0d",
   "metadata": {},
   "outputs": [
    {
     "data": {
      "text/plain": [
       "['Apple', 'Banana', 'Grapes', 'Mango', 'Orange']"
      ]
     },
     "execution_count": 1,
     "metadata": {},
     "output_type": "execute_result"
    }
   ],
   "source": [
    "Fruits=['Apple','Banana','Grapes','Mango','Orange']\n",
    "Fruits"
   ]
  },
  {
   "cell_type": "code",
   "execution_count": 4,
   "id": "e97f59b9",
   "metadata": {},
   "outputs": [
    {
     "data": {
      "text/plain": [
       "['Apple',\n",
       " 'Banana',\n",
       " 'Grapes',\n",
       " 'Mango',\n",
       " 'Orange',\n",
       " 'v',\n",
       " 'e',\n",
       " 'g',\n",
       " 'g',\n",
       " 'i',\n",
       " 'e',\n",
       " 's',\n",
       " 'v',\n",
       " 'e',\n",
       " 'g',\n",
       " 'g',\n",
       " 'i',\n",
       " 'e',\n",
       " 's',\n",
       " 'veggies']"
      ]
     },
     "execution_count": 4,
     "metadata": {},
     "output_type": "execute_result"
    }
   ],
   "source": [
    "Fruits.extend(['veggies'])\n",
    "Fruits"
   ]
  },
  {
   "cell_type": "code",
   "execution_count": null,
   "id": "aeb42d91",
   "metadata": {},
   "outputs": [
    {
     "data": {
      "text/plain": [
       "('Apple', 'Banana', 'Grapes', 'Mango', 'Orange')"
      ]
     },
     "execution_count": 10,
     "metadata": {},
     "output_type": "execute_result"
    }
   ],
   "source": [
    "Fruits='Apple','Banana','Grapes','Mango','Orange']\n",
    "veggies='beans','carrot','onion'\n",
    "Fruits.append(veggies)\n",
    "Fruits"
   ]
  },
  {
   "cell_type": "code",
   "execution_count": 13,
   "id": "249d7d8f",
   "metadata": {},
   "outputs": [
    {
     "data": {
      "text/plain": [
       "['Apple', 'Banana', 'Grapes', 'Mango', 'Orange', 'beans', 'carrot', 'onion']"
      ]
     },
     "execution_count": 13,
     "metadata": {},
     "output_type": "execute_result"
    }
   ],
   "source": [
    "Fruits=['Apple','Banana','Grapes','Mango','Orange']\n",
    "veggies=['beans','carrot','onion']\n",
    "Fruits.extend(veggies)\n",
    "Fruits"
   ]
  },
  {
   "cell_type": "code",
   "execution_count": 15,
   "id": "f006e3b8",
   "metadata": {},
   "outputs": [
    {
     "name": "stdout",
     "output_type": "stream",
     "text": [
      "hello,I'm an architect learning python!\n"
     ]
    }
   ],
   "source": [
    "print(\"hello,I'm an architect learning python!\")"
   ]
  },
  {
   "cell_type": "code",
   "execution_count": 16,
   "id": "81a70133",
   "metadata": {},
   "outputs": [
    {
     "name": "stdout",
     "output_type": "stream",
     "text": [
      "Hello REKHA welcome to Python!\n"
     ]
    }
   ],
   "source": [
    "name = input(\"What is your name? \")\n",
    "print(\"Hello\", name, \"welcome to Python!\")"
   ]
  },
  {
   "cell_type": "code",
   "execution_count": 18,
   "id": "4fbc67f8",
   "metadata": {},
   "outputs": [
    {
     "name": "stdout",
     "output_type": "stream",
     "text": [
      "9\n"
     ]
    }
   ],
   "source": [
    "n1=4\n",
    "n2=5\n",
    "sum=n1+n2\n",
    "print(n1+n2)"
   ]
  },
  {
   "cell_type": "code",
   "execution_count": 23,
   "id": "a5199b7d",
   "metadata": {},
   "outputs": [
    {
     "name": "stdout",
     "output_type": "stream",
     "text": [
      "you were born in the year 1998\n"
     ]
    }
   ],
   "source": [
    "age=int(input('Enter your age'))\n",
    "current_year=2025 \n",
    "birth_year= current_year - age\n",
    "print('you were born in the year',birth_year)"
   ]
  },
  {
   "cell_type": "code",
   "execution_count": 24,
   "id": "3966e462",
   "metadata": {},
   "outputs": [
    {
     "name": "stdout",
     "output_type": "stream",
     "text": [
      "Length in meters 2.3\n"
     ]
    }
   ],
   "source": [
    "cm=float(input('enter the value'))\n",
    "m=cm/100\n",
    "print('Length in meters',m)"
   ]
  },
  {
   "cell_type": "code",
   "execution_count": 25,
   "id": "2260333b",
   "metadata": {},
   "outputs": [
    {
     "name": "stdout",
     "output_type": "stream",
     "text": [
      "The whole number is: 77\n"
     ]
    }
   ],
   "source": [
    "num = float(input(\"Enter a decimal number: \"))\n",
    "whole = int(num)\n",
    "print(\"The whole number is:\", whole)"
   ]
  },
  {
   "cell_type": "markdown",
   "id": "a7a887a5",
   "metadata": {},
   "source": [
    "# Tuple\n"
   ]
  },
  {
   "cell_type": "code",
   "execution_count": 26,
   "id": "f4c355af",
   "metadata": {},
   "outputs": [
    {
     "name": "stdout",
     "output_type": "stream",
     "text": [
      "('brick', 'cement', 'sand', 'steel')\n"
     ]
    }
   ],
   "source": [
    "materials = (\"brick\", \"cement\", \"sand\", \"steel\")\n",
    "print(materials)"
   ]
  },
  {
   "cell_type": "code",
   "execution_count": 29,
   "id": "d3bd24d9",
   "metadata": {},
   "outputs": [
    {
     "name": "stdout",
     "output_type": "stream",
     "text": [
      "brick\n",
      "steel\n"
     ]
    }
   ],
   "source": [
    "materials = (\"brick\", \"cement\", \"sand\", \"steel\")\n",
    "print(materials[0])\n",
    "print(materials[-1])"
   ]
  },
  {
   "cell_type": "code",
   "execution_count": 30,
   "id": "1cf8067a",
   "metadata": {},
   "outputs": [
    {
     "data": {
      "text/plain": [
       "2"
      ]
     },
     "execution_count": 30,
     "metadata": {},
     "output_type": "execute_result"
    }
   ],
   "source": [
    "materials.index('sand')"
   ]
  },
  {
   "cell_type": "code",
   "execution_count": null,
   "id": "c7f3ce85",
   "metadata": {},
   "outputs": [],
   "source": [
    "materials = (\"brick\", \"cement\", \"sand\", \"steel\")"
   ]
  },
  {
   "cell_type": "code",
   "execution_count": 33,
   "id": "2ebf2167",
   "metadata": {},
   "outputs": [
    {
     "data": {
      "text/plain": [
       "['apple', 'strawberry', 'banana', 'cherry']"
      ]
     },
     "execution_count": 33,
     "metadata": {},
     "output_type": "execute_result"
    }
   ],
   "source": [
    "thislist = [\"apple\", \"banana\", \"cherry\"]\n",
    "thislist.insert(1,'strawberry')\n",
    "thislist"
   ]
  },
  {
   "cell_type": "code",
   "execution_count": 39,
   "id": "6c576cfa",
   "metadata": {},
   "outputs": [
    {
     "data": {
      "text/plain": [
       "['apple', 'banana', 'cherry', 'strawberry', 'guava']"
      ]
     },
     "execution_count": 39,
     "metadata": {},
     "output_type": "execute_result"
    }
   ],
   "source": [
    "thislist = [\"apple\", \"banana\", \"cherry\"]\n",
    "thislist.extend(['strawberry','guava'])\n",
    "thislist"
   ]
  },
  {
   "cell_type": "code",
   "execution_count": 40,
   "id": "88466aea",
   "metadata": {},
   "outputs": [
    {
     "data": {
      "text/plain": [
       "['apple', 'banana', 'cherry', ['strawberry', 'guava']]"
      ]
     },
     "execution_count": 40,
     "metadata": {},
     "output_type": "execute_result"
    }
   ],
   "source": [
    "thislist = [\"apple\", \"banana\", \"cherry\"]\n",
    "thislist.append(['strawberry','guava'])\n",
    "thislist"
   ]
  },
  {
   "cell_type": "code",
   "execution_count": 41,
   "id": "35b0a7cb",
   "metadata": {},
   "outputs": [
    {
     "name": "stdout",
     "output_type": "stream",
     "text": [
      "['apple', 'blackcurrant', 'watermelon', 'orange', 'kiwi', 'mango']\n"
     ]
    }
   ],
   "source": [
    "thislist = [\"apple\", \"banana\", \"cherry\", \"orange\", \"kiwi\", \"mango\"]\n",
    "thislist[1:3] = [\"blackcurrant\", \"watermelon\"]\n",
    "print(thislist)"
   ]
  },
  {
   "cell_type": "code",
   "execution_count": 42,
   "id": "547f08e4",
   "metadata": {},
   "outputs": [
    {
     "name": "stdout",
     "output_type": "stream",
     "text": [
      "['apple', 'watermelon']\n"
     ]
    }
   ],
   "source": [
    "thislist = [\"apple\", \"banana\", \"cherry\"]\n",
    "thislist[1:3] = [\"watermelon\"]\n",
    "print(thislist)\n"
   ]
  },
  {
   "cell_type": "code",
   "execution_count": 46,
   "id": "db5499cb",
   "metadata": {},
   "outputs": [
    {
     "name": "stdout",
     "output_type": "stream",
     "text": [
      "['apple', 'banana']\n"
     ]
    }
   ],
   "source": [
    "thislist = [\"apple\", \"banana\", \"cherry\"]\n",
    "thislist.remove('cherry')\n",
    "print(thislist)"
   ]
  },
  {
   "cell_type": "code",
   "execution_count": 51,
   "id": "8e2f114c",
   "metadata": {},
   "outputs": [
    {
     "name": "stdout",
     "output_type": "stream",
     "text": [
      "['apple', 'banana']\n"
     ]
    }
   ],
   "source": [
    "thislist = [\"apple\", \"banana\", \"cherry\"]\n",
    "del thislist[2]\n",
    "print(thislist)"
   ]
  },
  {
   "cell_type": "code",
   "execution_count": 54,
   "id": "ba98f7d4",
   "metadata": {},
   "outputs": [
    {
     "name": "stdout",
     "output_type": "stream",
     "text": [
      "[]\n"
     ]
    }
   ],
   "source": [
    "thislist = [\"apple\", \"banana\", \"cherry\"]\n",
    "thislist.clear()\n",
    "print(thislist)"
   ]
  },
  {
   "cell_type": "code",
   "execution_count": null,
   "id": "62044801",
   "metadata": {},
   "outputs": [
    {
     "name": "stdout",
     "output_type": "stream",
     "text": [
      "('apple', 'kiwi', 'cherry')\n"
     ]
    }
   ],
   "source": [
    "x = (\"apple\", \"banana\", \"cherry\") # tuple\n",
    "y = list(x) # converting tuple into list \n",
    "y[1] = \"kiwi\"\n",
    "x = tuple(y)\n",
    "print(x)"
   ]
  },
  {
   "cell_type": "code",
   "execution_count": 66,
   "id": "8de0809e",
   "metadata": {},
   "outputs": [
    {
     "name": "stdout",
     "output_type": "stream",
     "text": [
      "('living room', 'studyroom', 'kitchen')\n"
     ]
    }
   ],
   "source": [
    "rooms = (\"living room\", \"bedroom\", \"kitchen\")\n",
    "changes_in_room= list(rooms)\n",
    "changes_in_room[1]='studyroom'\n",
    "rooms=tuple(changes_in_room)\n",
    "print(rooms)"
   ]
  },
  {
   "cell_type": "code",
   "execution_count": 61,
   "id": "2bf6df1a",
   "metadata": {},
   "outputs": [
    {
     "data": {
      "text/plain": [
       "['living room', 'bedroom', 'kitchen']"
      ]
     },
     "execution_count": 61,
     "metadata": {},
     "output_type": "execute_result"
    }
   ],
   "source": [
    "rooms = (\"living room\", \"bedroom\", \"kitchen\")\n",
    "changes_in_room= list(rooms)\n",
    "changes_in_room\n"
   ]
  },
  {
   "cell_type": "code",
   "execution_count": 65,
   "id": "132c379f",
   "metadata": {},
   "outputs": [
    {
     "data": {
      "text/plain": [
       "('living room', 'studyroom', 'kitchen')"
      ]
     },
     "execution_count": 65,
     "metadata": {},
     "output_type": "execute_result"
    }
   ],
   "source": [
    "changes_in_room\n",
    "changes_in_room[1]='studyroom'\n",
    "changes_in_room\n",
    "rooms=tuple(changes_in_room)\n",
    "rooms"
   ]
  },
  {
   "cell_type": "code",
   "execution_count": 67,
   "id": "90da3246",
   "metadata": {},
   "outputs": [
    {
     "name": "stdout",
     "output_type": "stream",
     "text": [
      "('brick', 'cement', 'sand', 'steel')\n"
     ]
    }
   ],
   "source": [
    "materials = (\"brick\", \"cement\", \"sand\")\n",
    "material_addition=list(materials)\n",
    "material_addition.append('steel')\n",
    "materials=tuple(material_addition)\n",
    "print(materials)"
   ]
  },
  {
   "cell_type": "code",
   "execution_count": 69,
   "id": "4cdc900b",
   "metadata": {},
   "outputs": [
    {
     "name": "stdout",
     "output_type": "stream",
     "text": [
      "('red', 'blue', 'yellow')\n"
     ]
    }
   ],
   "source": [
    "colors = (\"red\", \"blue\", \"green\", \"yellow\")\n",
    "removed_color=list(colors)\n",
    "removed_color.remove('green')\n",
    "colors=tuple(removed_color)\n",
    "print(colors)"
   ]
  },
  {
   "cell_type": "code",
   "execution_count": 70,
   "id": "b2b1bae9",
   "metadata": {},
   "outputs": [
    {
     "name": "stdout",
     "output_type": "stream",
     "text": [
      "(1, 3, 5, 9)\n"
     ]
    }
   ],
   "source": [
    "numbers = (5, 3, 9, 1)\n",
    "sorted_numbers=list(numbers)\n",
    "sorted_numbers.sort()\n",
    "numbers=tuple(sorted_numbers)\n",
    "print(numbers)\n"
   ]
  },
  {
   "cell_type": "code",
   "execution_count": 74,
   "id": "ff1fd857",
   "metadata": {},
   "outputs": [
    {
     "ename": "NameError",
     "evalue": "name 'thistuple' is not defined",
     "output_type": "error",
     "traceback": [
      "\u001b[31m---------------------------------------------------------------------------\u001b[39m",
      "\u001b[31mNameError\u001b[39m                                 Traceback (most recent call last)",
      "\u001b[36mCell\u001b[39m\u001b[36m \u001b[39m\u001b[32mIn[74]\u001b[39m\u001b[32m, line 3\u001b[39m\n\u001b[32m      1\u001b[39m thistuple = (\u001b[33m\"\u001b[39m\u001b[33mapple\u001b[39m\u001b[33m\"\u001b[39m, \u001b[33m\"\u001b[39m\u001b[33mbanana\u001b[39m\u001b[33m\"\u001b[39m, \u001b[33m\"\u001b[39m\u001b[33mcherry\u001b[39m\u001b[33m\"\u001b[39m)\n\u001b[32m      2\u001b[39m \u001b[38;5;28;01mdel\u001b[39;00m thistuple\n\u001b[32m----> \u001b[39m\u001b[32m3\u001b[39m \u001b[38;5;28mprint\u001b[39m(\u001b[43mthistuple\u001b[49m)\n",
      "\u001b[31mNameError\u001b[39m: name 'thistuple' is not defined"
     ]
    }
   ],
   "source": [
    "thistuple = (\"apple\", \"banana\", \"cherry\")\n",
    "del thistuple\n",
    "print(thistuple)"
   ]
  },
  {
   "cell_type": "code",
   "execution_count": null,
   "id": "cab9884b",
   "metadata": {},
   "outputs": [],
   "source": []
  }
 ],
 "metadata": {
  "kernelspec": {
   "display_name": "Python 3",
   "language": "python",
   "name": "python3"
  },
  "language_info": {
   "codemirror_mode": {
    "name": "ipython",
    "version": 3
   },
   "file_extension": ".py",
   "mimetype": "text/x-python",
   "name": "python",
   "nbconvert_exporter": "python",
   "pygments_lexer": "ipython3",
   "version": "3.12.10"
  }
 },
 "nbformat": 4,
 "nbformat_minor": 5
}
