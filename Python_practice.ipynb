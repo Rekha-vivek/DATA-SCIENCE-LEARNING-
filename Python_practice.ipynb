{
 "cells": [
  {
   "cell_type": "code",
   "execution_count": 10,
   "id": "c41b91c4",
   "metadata": {},
   "outputs": [
    {
     "data": {
      "text/plain": [
       "{'apple', 'banana', 'orange'}"
      ]
     },
     "execution_count": 10,
     "metadata": {},
     "output_type": "execute_result"
    }
   ],
   "source": [
    "items = [\"apple\", \"banana\", \"apple\", \"orange\", \"banana\"]\n",
    "items=set(items)\n",
    "items\n",
    "\n"
   ]
  },
  {
   "cell_type": "code",
   "execution_count": 11,
   "id": "4aea5705",
   "metadata": {},
   "outputs": [
    {
     "data": {
      "text/plain": [
       "{'blue', 'green', 'red', 'yellow'}"
      ]
     },
     "execution_count": 11,
     "metadata": {},
     "output_type": "execute_result"
    }
   ],
   "source": [
    "colors = {\"red\", \"green\", \"blue\"}\n",
    "colors.add('yellow')\n",
    "colors"
   ]
  },
  {
   "cell_type": "code",
   "execution_count": 13,
   "id": "8c5013bf",
   "metadata": {},
   "outputs": [
    {
     "name": "stdout",
     "output_type": "stream",
     "text": [
      "no\n"
     ]
    }
   ],
   "source": [
    "materials = {\"cement\", \"sand\", \"brick\"}\n",
    "if 'steel' in materials:\n",
    "    print('YES')\n",
    "else:\n",
    "    print('no')"
   ]
  },
  {
   "cell_type": "code",
   "execution_count": 15,
   "id": "b92cad16",
   "metadata": {},
   "outputs": [
    {
     "data": {
      "text/plain": [
       "{'Chennai', 'Delhi', 'Mumbai'}"
      ]
     },
     "execution_count": 15,
     "metadata": {},
     "output_type": "execute_result"
    }
   ],
   "source": [
    "set1 = {\"Delhi\", \"Mumbai\"}\n",
    "set2 = {\"Chennai\", \"Mumbai\"}\n",
    "combined_set=set1.union(set2)\n",
    "combined_set"
   ]
  },
  {
   "cell_type": "code",
   "execution_count": 16,
   "id": "dfda389b",
   "metadata": {},
   "outputs": [
    {
     "data": {
      "text/plain": [
       "{'pen', 'pencil', 'sharpener'}"
      ]
     },
     "execution_count": 16,
     "metadata": {},
     "output_type": "execute_result"
    }
   ],
   "source": [
    "set1 = {\"pen\", \"pencil\", \"eraser\"}\n",
    "set2 = {\"pencil\", \"sharpener\", \"pen\"}\n",
    "set.intersection(set2)"
   ]
  },
  {
   "cell_type": "code",
   "execution_count": null,
   "id": "34efe74b",
   "metadata": {},
   "outputs": [],
   "source": []
  }
 ],
 "metadata": {
  "kernelspec": {
   "display_name": "Python 3",
   "language": "python",
   "name": "python3"
  },
  "language_info": {
   "codemirror_mode": {
    "name": "ipython",
    "version": 3
   },
   "file_extension": ".py",
   "mimetype": "text/x-python",
   "name": "python",
   "nbconvert_exporter": "python",
   "pygments_lexer": "ipython3",
   "version": "3.12.10"
  }
 },
 "nbformat": 4,
 "nbformat_minor": 5
}
